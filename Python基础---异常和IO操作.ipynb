{
 "cells": [
  {
   "cell_type": "markdown",
   "metadata": {},
   "source": [
    "# 错误和异常"
   ]
  },
  {
   "cell_type": "markdown",
   "metadata": {},
   "source": [
    "## 语法错误(Syntax Errors)"
   ]
  },
  {
   "cell_type": "markdown",
   "metadata": {},
   "source": [
    "语法错误, 也就是解析时错误。如果写出了不符合python语法的代码， 在解析时会报SytaxError， 并且会显示出错的哪一行， 并且用小箭头指明最早探测到错误的位置。\n",
    "\n",
    "程序运行之前就会预先检查语法错误, 因此报出语法错误的时候程序实际上还没有运行.\n",
    "\n",
    "语法错误无法通过其他代码进行处理，只能对出现语法错误的代码本身进行修改"
   ]
  },
  {
   "cell_type": "code",
   "execution_count": 1,
   "metadata": {},
   "outputs": [
    {
     "ename": "SyntaxError",
     "evalue": "invalid syntax (<ipython-input-1-355355ad808a>, line 1)",
     "output_type": "error",
     "traceback": [
      "\u001b[1;36m  File \u001b[1;32m\"<ipython-input-1-355355ad808a>\"\u001b[1;36m, line \u001b[1;32m1\u001b[0m\n\u001b[1;33m    while True\u001b[0m\n\u001b[1;37m              ^\u001b[0m\n\u001b[1;31mSyntaxError\u001b[0m\u001b[1;31m:\u001b[0m invalid syntax\n"
     ]
    }
   ],
   "source": [
    "while True"
   ]
  },
  {
   "cell_type": "code",
   "execution_count": 2,
   "metadata": {},
   "outputs": [
    {
     "ename": "SyntaxError",
     "evalue": "invalid syntax (<ipython-input-2-ac4f6a5db6da>, line 3)",
     "output_type": "error",
     "traceback": [
      "\u001b[1;36m  File \u001b[1;32m\"<ipython-input-2-ac4f6a5db6da>\"\u001b[1;36m, line \u001b[1;32m3\u001b[0m\n\u001b[1;33m    while True\u001b[0m\n\u001b[1;37m              ^\u001b[0m\n\u001b[1;31mSyntaxError\u001b[0m\u001b[1;31m:\u001b[0m invalid syntax\n"
     ]
    }
   ],
   "source": [
    "# 无法使用try except抛出\n",
    "try:\n",
    "    while True\n",
    "except SyntaxError as e:\n",
    "    print(\"except: \", e)"
   ]
  },
  {
   "cell_type": "markdown",
   "metadata": {},
   "source": [
    "## 异常(Exceptions)"
   ]
  },
  {
   "cell_type": "markdown",
   "metadata": {},
   "source": [
    "即使语句或表达式在语法上是正确的, 但在尝试运行时也可能发生错误, 运行时错误就叫做异常(Exception). "
   ]
  },
  {
   "cell_type": "markdown",
   "metadata": {},
   "source": [
    "### 除零错误ZeroDivisionError: division by zero"
   ]
  },
  {
   "cell_type": "code",
   "execution_count": 3,
   "metadata": {},
   "outputs": [
    {
     "ename": "ZeroDivisionError",
     "evalue": "division by zero",
     "output_type": "error",
     "traceback": [
      "\u001b[1;31m---------------------------------------------------------------------------\u001b[0m",
      "\u001b[1;31mZeroDivisionError\u001b[0m                         Traceback (most recent call last)",
      "\u001b[1;32m<ipython-input-3-cd759d3fcf39>\u001b[0m in \u001b[0;36m<module>\u001b[1;34m\u001b[0m\n\u001b[1;32m----> 1\u001b[1;33m \u001b[1;36m10\u001b[0m \u001b[1;33m/\u001b[0m \u001b[1;36m0\u001b[0m\u001b[1;33m\u001b[0m\u001b[1;33m\u001b[0m\u001b[0m\n\u001b[0m",
      "\u001b[1;31mZeroDivisionError\u001b[0m: division by zero"
     ]
    }
   ],
   "source": [
    "10 / 0"
   ]
  },
  {
   "cell_type": "markdown",
   "metadata": {},
   "source": [
    "### 命名错误NameError: name 'list1' is not defined"
   ]
  },
  {
   "cell_type": "code",
   "execution_count": 4,
   "metadata": {},
   "outputs": [
    {
     "ename": "NameError",
     "evalue": "name 'list1' is not defined",
     "output_type": "error",
     "traceback": [
      "\u001b[1;31m---------------------------------------------------------------------------\u001b[0m",
      "\u001b[1;31mNameError\u001b[0m                                 Traceback (most recent call last)",
      "\u001b[1;32m<ipython-input-4-32e3a55f6bef>\u001b[0m in \u001b[0;36m<module>\u001b[1;34m\u001b[0m\n\u001b[1;32m----> 1\u001b[1;33m \u001b[0mlist1\u001b[0m\u001b[1;33m\u001b[0m\u001b[1;33m\u001b[0m\u001b[0m\n\u001b[0m",
      "\u001b[1;31mNameError\u001b[0m: name 'list1' is not defined"
     ]
    }
   ],
   "source": [
    "list1"
   ]
  },
  {
   "cell_type": "markdown",
   "metadata": {},
   "source": [
    "### 类型错误TypeError"
   ]
  },
  {
   "cell_type": "code",
   "execution_count": 5,
   "metadata": {},
   "outputs": [
    {
     "ename": "TypeError",
     "evalue": "unsupported operand type(s) for +: 'int' and 'str'",
     "output_type": "error",
     "traceback": [
      "\u001b[1;31m---------------------------------------------------------------------------\u001b[0m",
      "\u001b[1;31mTypeError\u001b[0m                                 Traceback (most recent call last)",
      "\u001b[1;32m<ipython-input-5-375ec8d4f3b9>\u001b[0m in \u001b[0;36m<module>\u001b[1;34m\u001b[0m\n\u001b[1;32m----> 1\u001b[1;33m \u001b[1;36m2\u001b[0m \u001b[1;33m+\u001b[0m \u001b[1;34m\"1\"\u001b[0m\u001b[1;33m\u001b[0m\u001b[1;33m\u001b[0m\u001b[0m\n\u001b[0m",
      "\u001b[1;31mTypeError\u001b[0m: unsupported operand type(s) for +: 'int' and 'str'"
     ]
    }
   ],
   "source": [
    "2 + \"1\""
   ]
  },
  {
   "cell_type": "markdown",
   "metadata": {},
   "source": [
    "### python标准异常"
   ]
  },
  {
   "cell_type": "markdown",
   "metadata": {},
   "source": [
    "|异常名称|描述|\n",
    "|-------|----|\n",
    "|BaseException|所有异常的基类|\n",
    "|SystemExit|解释器请求退出|\n",
    "|KeyboardInterrupt|用户中断执行(通常是输入^C)|\n",
    "|Exception|常规错误的基类|\n",
    "|StopIteration|迭代器没有更多的值|\n",
    "|GeneratorExit|生成器(generator)发生异常来通知退出|\n",
    "|StandardError|所有的内建标准异常的基类|\n",
    "|ArithmeticError|所有数值计算错误的基类|\n",
    "|FloatingPointError|浮点计算错误|\n",
    "|OverflowError|数值运算超出最大限制|\n",
    "|ZeroDivisionError|除(或取模)零 (所有数据类型)|\n",
    "|AssertionError|断言语句失败|\n",
    "|AttributeError|对象没有这个属性|\n",
    "|EOFError|没有内建输入,到达EOF 标记 好像是读取异常|\n",
    "|EnvironmentError|操作系统错误的基类|\n",
    "|IOError|输入/输出操作失败|\n",
    "|OSError|操作系统错误|\n",
    "|WindowsError|系统调用失败|\n",
    "|ImportError|导入模块/对象失败|\n",
    "|LookupError|无效数据查询的基类|\n",
    "|IndexError|序列中没有此索引(index)|\n",
    "|KeyError|映射中没有这个键|\n",
    "|MemoryError|内存溢出错误(对于Python 解释器不是致命的)|\n",
    "|NameError|未声明/初始化对象 (没有属性)|\n",
    "|UnboundLocalError|访问未初始化的本地变量|\n",
    "|ReferenceError|弱引用(Weak reference)试图访问已经垃圾回收了的对象|\n",
    "|RuntimeError|一般的运行时错误|\n",
    "|NotImplementedError|尚未实现的方法|\n",
    "|SyntaxError|Python 语法错误|\n",
    "|IndentationError|缩进错误|\n",
    "|TabError|Tab 和空格混用|\n",
    "|SystemError|一般的解释器系统错误|\n",
    "|TypeError|对类型无效的操作|\n",
    "|ValueError|传入无效的参数|\n",
    "|UnicodeError|Unicode 相关的错误|\n",
    "|UnicodeDecodeError|Unicode 解码时的错误|\n",
    "|UnicodeEncodeError|Unicode 编码时错误|\n",
    "|UnicodeTranslateError|Unicode 转换时错误|\n",
    "|**Warning**|**警告的基类**|\n",
    "|DeprecationWarning|关于被弃用的特征的警告|\n",
    "|FutureWarning|关于构造将来语义会有改变的警告|\n",
    "|OverflowWarning|旧的关于自动提升为长整型(long)的警告|\n",
    "|PendingDeprecationWarning|关于特性将会被废弃的警告|\n",
    "|RuntimeWarning|可疑的运行时行为(runtime behavior)的警告|\n",
    "|SyntaxWarning|可疑的语法的警告|\n",
    "|UserWarning|用户代码生成的警告|"
   ]
  },
  {
   "cell_type": "markdown",
   "metadata": {},
   "source": [
    "## 处理异常（try…except…）"
   ]
  },
  {
   "cell_type": "markdown",
   "metadata": {},
   "source": [
    "首先说明处理异常的目的:\n",
    "预见到代码可能会产生某种异常, 但是却不希望当这种异常出现的时候导致程序终止, 希望程序即使出现了异常也能跳过去继续向下运行, 这时候需要添加try/except 或try/finally语句来处理它.\n"
   ]
  },
  {
   "cell_type": "markdown",
   "metadata": {},
   "source": [
    "一旦代码中间出现异常，后边的代码不会被执行"
   ]
  },
  {
   "cell_type": "code",
   "execution_count": 1,
   "metadata": {},
   "outputs": [
    {
     "name": "stdout",
     "output_type": "stream",
     "text": [
      "错误类型为: unsupported operand type(s) for +: 'int' and 'str'\n"
     ]
    },
    {
     "ename": "NameError",
     "evalue": "name 'b' is not defined",
     "output_type": "error",
     "traceback": [
      "\u001b[0;31m---------------------------------------------------------------------------\u001b[0m",
      "\u001b[0;31mNameError\u001b[0m                                 Traceback (most recent call last)",
      "\u001b[0;32m<ipython-input-1-7d4f3e3f47ba>\u001b[0m in \u001b[0;36m<module>\u001b[0;34m\u001b[0m\n\u001b[1;32m      5\u001b[0m     \u001b[0mprint\u001b[0m\u001b[0;34m(\u001b[0m\u001b[0;34m\"错误类型为:\"\u001b[0m\u001b[0;34m,\u001b[0m \u001b[0me\u001b[0m\u001b[0;34m)\u001b[0m\u001b[0;34m\u001b[0m\u001b[0;34m\u001b[0m\u001b[0m\n\u001b[1;32m      6\u001b[0m \u001b[0;34m\u001b[0m\u001b[0m\n\u001b[0;32m----> 7\u001b[0;31m \u001b[0mprint\u001b[0m\u001b[0;34m(\u001b[0m\u001b[0mb\u001b[0m\u001b[0;34m)\u001b[0m\u001b[0;34m\u001b[0m\u001b[0;34m\u001b[0m\u001b[0m\n\u001b[0m",
      "\u001b[0;31mNameError\u001b[0m: name 'b' is not defined"
     ]
    }
   ],
   "source": [
    "try:\n",
    "    a = 2 + \"2\"\n",
    "    b = 3  # 说明程序没有执行到这里\n",
    "except TypeError as e:  #e用来接收异常的形参\n",
    "    print(\"错误类型为:\", e)\n",
    "    \n",
    "print(b)"
   ]
  },
  {
   "cell_type": "code",
   "execution_count": 56,
   "metadata": {},
   "outputs": [
    {
     "name": "stdout",
     "output_type": "stream",
     "text": [
      "错误类型为: unsupported operand type(s) for +: 'int' and 'str'\n",
      "3\n"
     ]
    }
   ],
   "source": [
    "try:\n",
    "    b = 3 #调换一下与异常代码的顺序\n",
    "    a = 2 + \"2\"\n",
    "except TypeError as e:\n",
    "    print(\"错误类型为:\", e)\n",
    "    \n",
    "print(b)"
   ]
  },
  {
   "cell_type": "code",
   "execution_count": 57,
   "metadata": {},
   "outputs": [
    {
     "name": "stdout",
     "output_type": "stream",
     "text": [
      "错误类型为: division by zero\n",
      "无论发生什么错误都要运行的代码,放在这里\n"
     ]
    }
   ],
   "source": [
    "#查看try except finally的运行逻辑\n",
    "try:\n",
    "    r = 10 / 0\n",
    "    print('result:', r) #由于上一行代码存在异常，所以本行代码没有被执行\n",
    "except ZeroDivisionError as e:\n",
    "    print('错误类型为:', e)\n",
    "finally:\n",
    "    print('无论发生什么错误都要运行的代码,放在这里')"
   ]
  },
  {
   "cell_type": "code",
   "execution_count": 59,
   "metadata": {},
   "outputs": [
    {
     "name": "stdout",
     "output_type": "stream",
     "text": [
      "无论发生什么错误都要运行的代码,放在这里\n"
     ]
    },
    {
     "ename": "ZeroDivisionError",
     "evalue": "division by zero",
     "output_type": "error",
     "traceback": [
      "\u001b[1;31m---------------------------------------------------------------------------\u001b[0m",
      "\u001b[1;31mZeroDivisionError\u001b[0m                         Traceback (most recent call last)",
      "\u001b[1;32m<ipython-input-59-034841f0aee2>\u001b[0m in \u001b[0;36m<module>\u001b[1;34m\u001b[0m\n\u001b[0;32m      1\u001b[0m \u001b[1;31m#查看try except finally的运行逻辑\u001b[0m\u001b[1;33m\u001b[0m\u001b[1;33m\u001b[0m\u001b[1;33m\u001b[0m\u001b[0m\n\u001b[0;32m      2\u001b[0m \u001b[1;32mtry\u001b[0m\u001b[1;33m:\u001b[0m\u001b[1;33m\u001b[0m\u001b[1;33m\u001b[0m\u001b[0m\n\u001b[1;32m----> 3\u001b[1;33m     \u001b[0mr\u001b[0m \u001b[1;33m=\u001b[0m \u001b[1;36m10\u001b[0m \u001b[1;33m/\u001b[0m \u001b[1;36m0\u001b[0m\u001b[1;33m\u001b[0m\u001b[1;33m\u001b[0m\u001b[0m\n\u001b[0m\u001b[0;32m      4\u001b[0m     \u001b[0mprint\u001b[0m\u001b[1;33m(\u001b[0m\u001b[1;34m'result:'\u001b[0m\u001b[1;33m,\u001b[0m \u001b[0mr\u001b[0m\u001b[1;33m)\u001b[0m\u001b[1;33m\u001b[0m\u001b[1;33m\u001b[0m\u001b[0m\n\u001b[0;32m      5\u001b[0m \u001b[1;32mexcept\u001b[0m \u001b[0mNameError\u001b[0m \u001b[1;32mas\u001b[0m \u001b[0me\u001b[0m\u001b[1;33m:\u001b[0m \u001b[1;31m#如果实际发生的错误代码和代码捕捉的错误类型不一致，捕捉不成功\u001b[0m\u001b[1;33m\u001b[0m\u001b[1;33m\u001b[0m\u001b[0m\n",
      "\u001b[1;31mZeroDivisionError\u001b[0m: division by zero"
     ]
    }
   ],
   "source": [
    "#查看try except finally的运行逻辑\n",
    "try:\n",
    "    r = 10 / 0\n",
    "    print('result:', r) \n",
    "except NameError as e: #如果实际发生的错误代码和代码捕捉的错误类型不一致，捕捉不成功\n",
    "    print('错误类型为:', e)\n",
    "finally:\n",
    "    print('无论发生什么错误都要运行的代码,放在这里')"
   ]
  },
  {
   "cell_type": "code",
   "execution_count": 58,
   "metadata": {},
   "outputs": [
    {
     "name": "stdout",
     "output_type": "stream",
     "text": [
      "错误类型为: division by zero\n",
      "无论发生什么错误都要运行的代码,放在这里\n"
     ]
    }
   ],
   "source": [
    "#查看try except finally的运行逻辑\n",
    "try:\n",
    "    r = 10 / 0\n",
    "    print('result:', r) \n",
    "except Exception as e: #如果不能确定要捕捉的错误类型具体是哪一种，可以写常见异常类型的基类Exception进行捕捉\n",
    "    print('错误类型为:', e)\n",
    "finally:\n",
    "    print('无论发生什么错误都要运行的代码,放在这里')"
   ]
  },
  {
   "cell_type": "markdown",
   "metadata": {},
   "source": [
    "当我们认为某些代码可能会出错时，就可以用try来运行这段代码，如果执行出错，则后续代码不会继续执行，而是直接跳转至错误处理代码，即except语句块，执行完except后，如果有finally语句块，则执行finally语句块，至此，执行完毕。\n",
    "\n",
    "错误有很多种类，如果发生了不同类型的错误，应该由不同的except语句块处理。没错，可以有多个except来捕获不同类型的错误："
   ]
  },
  {
   "cell_type": "code",
   "execution_count": 27,
   "metadata": {},
   "outputs": [
    {
     "name": "stdout",
     "output_type": "stream",
     "text": [
      "请输入分母：aa\n",
      "ValueError: could not convert string to float: 'aa'\n",
      "运算结束\n"
     ]
    }
   ],
   "source": [
    "try:\n",
    "    a = float(input(\"请输入分母：\"))\n",
    "    r = 10 / a\n",
    "    print('result:', r)\n",
    "except ValueError as e:\n",
    "    print('ValueError:', e)\n",
    "except ZeroDivisionError as e:\n",
    "    print('ZeroDivisionError:', e)\n",
    "finally:\n",
    "    print('运算结束')"
   ]
  },
  {
   "cell_type": "code",
   "execution_count": 32,
   "metadata": {},
   "outputs": [
    {
     "name": "stdout",
     "output_type": "stream",
     "text": [
      "请输入分母：1\n",
      "result: 10.0\n",
      "运算结束\n"
     ]
    }
   ],
   "source": [
    "try:\n",
    "    a = float(input(\"请输入分母：\"))\n",
    "    r = 10 / a\n",
    "    print('result:', r)\n",
    "except (ValueError,ZeroDivisionError) as e:  \n",
    "    #通过一次except捕获到多个异常用元组的方式将异常类型打包，前提是对多个错误进行相同的操作\n",
    "    print('错误类型为:', e)\n",
    "finally:\n",
    "    print('运算结束')"
   ]
  },
  {
   "cell_type": "code",
   "execution_count": 64,
   "metadata": {},
   "outputs": [
    {
     "name": "stdout",
     "output_type": "stream",
     "text": [
      "请输入分母：0\n",
      "错误类型为: float division by zero\n",
      "运算结束\n"
     ]
    }
   ],
   "source": [
    "# 还可以添加else, 当没有错误的时候, 才会被执行\n",
    "try:\n",
    "    a = float(input(\"请输入分母：\"))\n",
    "    r = 10 / a\n",
    "    print('r的运算结果是:', r)\n",
    "except (ValueError,ZeroDivisionError) as e:\n",
    "    print('错误类型为:', e)\n",
    "else:\n",
    "    s = r + 1\n",
    "    print(\"s的运算结果是:\",s)\n",
    "finally:\n",
    "    print('运算结束')"
   ]
  },
  {
   "cell_type": "markdown",
   "metadata": {},
   "source": [
    "Python所有的错误都是从BaseException类派生的，常见的错误类型和继承关系看这里：\n",
    "\n",
    "https://docs.python.org/3/library/exceptions.html#exception-hierarchy"
   ]
  },
  {
   "cell_type": "markdown",
   "metadata": {},
   "source": [
    "## 手动抛出错误"
   ]
  },
  {
   "cell_type": "code",
   "execution_count": 2,
   "metadata": {},
   "outputs": [],
   "source": [
    "def input_age(age):\n",
    "    if age < 0 or age > 150:\n",
    "        raise ValueError (\"输入内容不符合要求，请从新输入\")\n",
    "    else:\n",
    "        print(\"您输入的年龄是：\",age)"
   ]
  },
  {
   "cell_type": "code",
   "execution_count": 4,
   "metadata": {},
   "outputs": [
    {
     "name": "stdout",
     "output_type": "stream",
     "text": [
      "您输入的年龄是： 12\n"
     ]
    }
   ],
   "source": [
    "input_age(12)"
   ]
  },
  {
   "cell_type": "code",
   "execution_count": 5,
   "metadata": {},
   "outputs": [
    {
     "ename": "ValueError",
     "evalue": "输入内容不符合要求，请从新输入",
     "output_type": "error",
     "traceback": [
      "\u001b[0;31m---------------------------------------------------------------------------\u001b[0m",
      "\u001b[0;31mValueError\u001b[0m                                Traceback (most recent call last)",
      "\u001b[0;32m<ipython-input-5-ba232aaf43f3>\u001b[0m in \u001b[0;36m<module>\u001b[0;34m\u001b[0m\n\u001b[0;32m----> 1\u001b[0;31m \u001b[0minput_age\u001b[0m\u001b[0;34m(\u001b[0m\u001b[0;34m-\u001b[0m\u001b[0;36m12\u001b[0m\u001b[0;34m)\u001b[0m\u001b[0;34m\u001b[0m\u001b[0;34m\u001b[0m\u001b[0m\n\u001b[0m",
      "\u001b[0;32m<ipython-input-2-7fccc0b5cae8>\u001b[0m in \u001b[0;36minput_age\u001b[0;34m(age)\u001b[0m\n\u001b[1;32m      1\u001b[0m \u001b[0;32mdef\u001b[0m \u001b[0minput_age\u001b[0m\u001b[0;34m(\u001b[0m\u001b[0mage\u001b[0m\u001b[0;34m)\u001b[0m\u001b[0;34m:\u001b[0m\u001b[0;34m\u001b[0m\u001b[0;34m\u001b[0m\u001b[0m\n\u001b[1;32m      2\u001b[0m     \u001b[0;32mif\u001b[0m \u001b[0mage\u001b[0m \u001b[0;34m<\u001b[0m \u001b[0;36m0\u001b[0m \u001b[0;32mor\u001b[0m \u001b[0mage\u001b[0m \u001b[0;34m>\u001b[0m \u001b[0;36m150\u001b[0m\u001b[0;34m:\u001b[0m\u001b[0;34m\u001b[0m\u001b[0;34m\u001b[0m\u001b[0m\n\u001b[0;32m----> 3\u001b[0;31m         \u001b[0;32mraise\u001b[0m \u001b[0mValueError\u001b[0m \u001b[0;34m(\u001b[0m\u001b[0;34m\"输入内容不符合要求，请从新输入\"\u001b[0m\u001b[0;34m)\u001b[0m\u001b[0;34m\u001b[0m\u001b[0;34m\u001b[0m\u001b[0m\n\u001b[0m\u001b[1;32m      4\u001b[0m     \u001b[0;32melse\u001b[0m\u001b[0;34m:\u001b[0m\u001b[0;34m\u001b[0m\u001b[0;34m\u001b[0m\u001b[0m\n\u001b[1;32m      5\u001b[0m         \u001b[0mprint\u001b[0m\u001b[0;34m(\u001b[0m\u001b[0;34m\"您输入的年龄是：\"\u001b[0m\u001b[0;34m,\u001b[0m\u001b[0mage\u001b[0m\u001b[0;34m)\u001b[0m\u001b[0;34m\u001b[0m\u001b[0;34m\u001b[0m\u001b[0m\n",
      "\u001b[0;31mValueError\u001b[0m: 输入内容不符合要求，请从新输入"
     ]
    }
   ],
   "source": [
    "input_age(-12)"
   ]
  },
  {
   "cell_type": "code",
   "execution_count": 68,
   "metadata": {},
   "outputs": [],
   "source": [
    "def input_age1(age):\n",
    "    if age < 0 or age > 150:\n",
    "        print (\"输入内容不符合要求，请从新输入\") #不设置raise关键字来抛出错误，不能中止程序运行\n",
    "    else:\n",
    "        print(\"您输入的年龄是：\",age)"
   ]
  },
  {
   "cell_type": "code",
   "execution_count": 69,
   "metadata": {},
   "outputs": [
    {
     "name": "stdout",
     "output_type": "stream",
     "text": [
      "输入内容不符合要求，请从新输入\n"
     ]
    }
   ],
   "source": [
    "input_age1(-12)"
   ]
  },
  {
   "cell_type": "code",
   "execution_count": 70,
   "metadata": {},
   "outputs": [
    {
     "ename": "ValueError",
     "evalue": "输入内容不符合要求，请从新输入",
     "output_type": "error",
     "traceback": [
      "\u001b[1;31m---------------------------------------------------------------------------\u001b[0m",
      "\u001b[1;31mValueError\u001b[0m                                Traceback (most recent call last)",
      "\u001b[1;32m<ipython-input-70-8bbb3381da8d>\u001b[0m in \u001b[0;36m<module>\u001b[1;34m\u001b[0m\n\u001b[1;32m----> 1\u001b[1;33m \u001b[0minput_age\u001b[0m\u001b[1;33m(\u001b[0m\u001b[1;33m-\u001b[0m\u001b[1;36m12\u001b[0m\u001b[1;33m)\u001b[0m\u001b[1;33m\u001b[0m\u001b[1;33m\u001b[0m\u001b[0m\n\u001b[0m\u001b[0;32m      2\u001b[0m \u001b[0mprint\u001b[0m\u001b[1;33m(\u001b[0m\u001b[1;34m\"程序终止运行\"\u001b[0m\u001b[1;33m)\u001b[0m\u001b[1;33m\u001b[0m\u001b[1;33m\u001b[0m\u001b[0m\n",
      "\u001b[1;32m<ipython-input-65-7fccc0b5cae8>\u001b[0m in \u001b[0;36minput_age\u001b[1;34m(age)\u001b[0m\n\u001b[0;32m      1\u001b[0m \u001b[1;32mdef\u001b[0m \u001b[0minput_age\u001b[0m\u001b[1;33m(\u001b[0m\u001b[0mage\u001b[0m\u001b[1;33m)\u001b[0m\u001b[1;33m:\u001b[0m\u001b[1;33m\u001b[0m\u001b[1;33m\u001b[0m\u001b[0m\n\u001b[0;32m      2\u001b[0m     \u001b[1;32mif\u001b[0m \u001b[0mage\u001b[0m \u001b[1;33m<\u001b[0m \u001b[1;36m0\u001b[0m \u001b[1;32mor\u001b[0m \u001b[0mage\u001b[0m \u001b[1;33m>\u001b[0m \u001b[1;36m150\u001b[0m\u001b[1;33m:\u001b[0m\u001b[1;33m\u001b[0m\u001b[1;33m\u001b[0m\u001b[0m\n\u001b[1;32m----> 3\u001b[1;33m         \u001b[1;32mraise\u001b[0m \u001b[0mValueError\u001b[0m \u001b[1;33m(\u001b[0m\u001b[1;34m\"输入内容不符合要求，请从新输入\"\u001b[0m\u001b[1;33m)\u001b[0m\u001b[1;33m\u001b[0m\u001b[1;33m\u001b[0m\u001b[0m\n\u001b[0m\u001b[0;32m      4\u001b[0m     \u001b[1;32melse\u001b[0m\u001b[1;33m:\u001b[0m\u001b[1;33m\u001b[0m\u001b[1;33m\u001b[0m\u001b[0m\n\u001b[0;32m      5\u001b[0m         \u001b[0mprint\u001b[0m\u001b[1;33m(\u001b[0m\u001b[1;34m\"您输入的年龄是：\"\u001b[0m\u001b[1;33m,\u001b[0m\u001b[0mage\u001b[0m\u001b[1;33m)\u001b[0m\u001b[1;33m\u001b[0m\u001b[1;33m\u001b[0m\u001b[0m\n",
      "\u001b[1;31mValueError\u001b[0m: 输入内容不符合要求，请从新输入"
     ]
    }
   ],
   "source": [
    "input_age(-12)\n",
    "print(\"程序终止运行\")"
   ]
  },
  {
   "cell_type": "code",
   "execution_count": 72,
   "metadata": {},
   "outputs": [
    {
     "name": "stdout",
     "output_type": "stream",
     "text": [
      "输入内容不符合要求，请从新输入\n",
      "程序不会终止运行\n"
     ]
    }
   ],
   "source": [
    "input_age1(-12)\n",
    "print(\"程序不会终止运行\")"
   ]
  },
  {
   "cell_type": "code",
   "execution_count": 96,
   "metadata": {},
   "outputs": [
    {
     "name": "stdout",
     "output_type": "stream",
     "text": [
      "错误类型为: 输入内容不符合要求，请从新输入\n",
      "程序不会终止运行\n"
     ]
    }
   ],
   "source": [
    "#使用函数的人如果不希望因为异常而是程序终止，可以用try except 捕捉异常\n",
    "try :\n",
    "    input_age(-12)\n",
    "except ValueError as e:\n",
    "    print('错误类型为:', e)\n",
    "finally :\n",
    "    print(\"程序不会终止运行\")"
   ]
  },
  {
   "cell_type": "markdown",
   "metadata": {},
   "source": [
    "## 自定义异常"
   ]
  },
  {
   "cell_type": "code",
   "execution_count": 107,
   "metadata": {},
   "outputs": [],
   "source": [
    "class MyError1(Exception): #自定义的异常类必须继承于Exception基类\n",
    "    def __init__(self, arg):\n",
    "        self.arg = arg"
   ]
  },
  {
   "cell_type": "code",
   "execution_count": 109,
   "metadata": {},
   "outputs": [],
   "source": [
    "def input_age2(age):\n",
    "    if age < 0 or age > 150:\n",
    "        raise MyError1(\"您输入的值有误！\")\n",
    "    else:\n",
    "        print(\"您输入的年龄是：\",age)"
   ]
  },
  {
   "cell_type": "code",
   "execution_count": 110,
   "metadata": {},
   "outputs": [
    {
     "ename": "MyError1",
     "evalue": "您输入的值有误！",
     "output_type": "error",
     "traceback": [
      "\u001b[1;31m---------------------------------------------------------------------------\u001b[0m",
      "\u001b[1;31mMyError1\u001b[0m                                  Traceback (most recent call last)",
      "\u001b[1;32m<ipython-input-110-6cad9ed6b556>\u001b[0m in \u001b[0;36m<module>\u001b[1;34m\u001b[0m\n\u001b[1;32m----> 1\u001b[1;33m \u001b[0minput_age2\u001b[0m\u001b[1;33m(\u001b[0m\u001b[1;33m-\u001b[0m\u001b[1;36m1\u001b[0m\u001b[1;33m)\u001b[0m\u001b[1;33m\u001b[0m\u001b[1;33m\u001b[0m\u001b[0m\n\u001b[0m",
      "\u001b[1;32m<ipython-input-109-95ebf725af1c>\u001b[0m in \u001b[0;36minput_age2\u001b[1;34m(age)\u001b[0m\n\u001b[0;32m      1\u001b[0m \u001b[1;32mdef\u001b[0m \u001b[0minput_age2\u001b[0m\u001b[1;33m(\u001b[0m\u001b[0mage\u001b[0m\u001b[1;33m)\u001b[0m\u001b[1;33m:\u001b[0m\u001b[1;33m\u001b[0m\u001b[1;33m\u001b[0m\u001b[0m\n\u001b[0;32m      2\u001b[0m     \u001b[1;32mif\u001b[0m \u001b[0mage\u001b[0m \u001b[1;33m<\u001b[0m \u001b[1;36m0\u001b[0m \u001b[1;32mor\u001b[0m \u001b[0mage\u001b[0m \u001b[1;33m>\u001b[0m \u001b[1;36m150\u001b[0m\u001b[1;33m:\u001b[0m\u001b[1;33m\u001b[0m\u001b[1;33m\u001b[0m\u001b[0m\n\u001b[1;32m----> 3\u001b[1;33m         \u001b[1;32mraise\u001b[0m \u001b[0mMyError1\u001b[0m\u001b[1;33m(\u001b[0m\u001b[1;34m\"您输入的值有误！\"\u001b[0m\u001b[1;33m)\u001b[0m\u001b[1;33m\u001b[0m\u001b[1;33m\u001b[0m\u001b[0m\n\u001b[0m\u001b[0;32m      4\u001b[0m     \u001b[1;32melse\u001b[0m\u001b[1;33m:\u001b[0m\u001b[1;33m\u001b[0m\u001b[1;33m\u001b[0m\u001b[0m\n\u001b[0;32m      5\u001b[0m         \u001b[0mprint\u001b[0m\u001b[1;33m(\u001b[0m\u001b[1;34m\"您输入的年龄是：\"\u001b[0m\u001b[1;33m,\u001b[0m\u001b[0mage\u001b[0m\u001b[1;33m)\u001b[0m\u001b[1;33m\u001b[0m\u001b[1;33m\u001b[0m\u001b[0m\n",
      "\u001b[1;31mMyError1\u001b[0m: 您输入的值有误！"
     ]
    }
   ],
   "source": [
    "input_age2(-1)"
   ]
  },
  {
   "cell_type": "markdown",
   "metadata": {},
   "source": [
    "# I/O操作"
   ]
  },
  {
   "cell_type": "markdown",
   "metadata": {},
   "source": [
    "## 文件的新建\\写入和关闭"
   ]
  },
  {
   "cell_type": "code",
   "execution_count": 39,
   "metadata": {},
   "outputs": [
    {
     "data": {
      "text/plain": [
       "'D:\\\\备课\\\\Python基础'"
      ]
     },
     "execution_count": 39,
     "metadata": {},
     "output_type": "execute_result"
    }
   ],
   "source": [
    "%pwd   #查看当前ipy文件所处的物理位置"
   ]
  },
  {
   "cell_type": "markdown",
   "metadata": {},
   "source": [
    "在python，使用open函数，可以打开一个已经存在的文件，或者创建一个新文件\n",
    "```python\n",
    "open(文件名，访问模式)\n",
    "```\n",
    "注意文件地址在当前文件夹"
   ]
  },
  {
   "cell_type": "code",
   "execution_count": 55,
   "metadata": {
    "scrolled": true
   },
   "outputs": [
    {
     "name": "stdout",
     "output_type": "stream",
     "text": [
      "Help on built-in function open in module io:\n",
      "\n",
      "open(file, mode='r', buffering=-1, encoding=None, errors=None, newline=None, closefd=True, opener=None)\n",
      "    Open file and return a stream.  Raise OSError upon failure.\n",
      "    \n",
      "    file is either a text or byte string giving the name (and the path\n",
      "    if the file isn't in the current working directory) of the file to\n",
      "    be opened or an integer file descriptor of the file to be\n",
      "    wrapped. (If a file descriptor is given, it is closed when the\n",
      "    returned I/O object is closed, unless closefd is set to False.)\n",
      "    \n",
      "    mode is an optional string that specifies the mode in which the file\n",
      "    is opened. It defaults to 'r' which means open for reading in text\n",
      "    mode.  Other common values are 'w' for writing (truncating the file if\n",
      "    it already exists), 'x' for creating and writing to a new file, and\n",
      "    'a' for appending (which on some Unix systems, means that all writes\n",
      "    append to the end of the file regardless of the current seek position).\n",
      "    In text mode, if encoding is not specified the encoding used is platform\n",
      "    dependent: locale.getpreferredencoding(False) is called to get the\n",
      "    current locale encoding. (For reading and writing raw bytes use binary\n",
      "    mode and leave encoding unspecified.) The available modes are:\n",
      "    \n",
      "    ========= ===============================================================\n",
      "    Character Meaning\n",
      "    --------- ---------------------------------------------------------------\n",
      "    'r'       open for reading (default)\n",
      "    'w'       open for writing, truncating the file first\n",
      "    'x'       create a new file and open it for writing\n",
      "    'a'       open for writing, appending to the end of the file if it exists\n",
      "    'b'       binary mode\n",
      "    't'       text mode (default)\n",
      "    '+'       open a disk file for updating (reading and writing)\n",
      "    'U'       universal newline mode (deprecated)\n",
      "    ========= ===============================================================\n",
      "    \n",
      "    The default mode is 'rt' (open for reading text). For binary random\n",
      "    access, the mode 'w+b' opens and truncates the file to 0 bytes, while\n",
      "    'r+b' opens the file without truncation. The 'x' mode implies 'w' and\n",
      "    raises an `FileExistsError` if the file already exists.\n",
      "    \n",
      "    Python distinguishes between files opened in binary and text modes,\n",
      "    even when the underlying operating system doesn't. Files opened in\n",
      "    binary mode (appending 'b' to the mode argument) return contents as\n",
      "    bytes objects without any decoding. In text mode (the default, or when\n",
      "    't' is appended to the mode argument), the contents of the file are\n",
      "    returned as strings, the bytes having been first decoded using a\n",
      "    platform-dependent encoding or using the specified encoding if given.\n",
      "    \n",
      "    'U' mode is deprecated and will raise an exception in future versions\n",
      "    of Python.  It has no effect in Python 3.  Use newline to control\n",
      "    universal newlines mode.\n",
      "    \n",
      "    buffering is an optional integer used to set the buffering policy.\n",
      "    Pass 0 to switch buffering off (only allowed in binary mode), 1 to select\n",
      "    line buffering (only usable in text mode), and an integer > 1 to indicate\n",
      "    the size of a fixed-size chunk buffer.  When no buffering argument is\n",
      "    given, the default buffering policy works as follows:\n",
      "    \n",
      "    * Binary files are buffered in fixed-size chunks; the size of the buffer\n",
      "      is chosen using a heuristic trying to determine the underlying device's\n",
      "      \"block size\" and falling back on `io.DEFAULT_BUFFER_SIZE`.\n",
      "      On many systems, the buffer will typically be 4096 or 8192 bytes long.\n",
      "    \n",
      "    * \"Interactive\" text files (files for which isatty() returns True)\n",
      "      use line buffering.  Other text files use the policy described above\n",
      "      for binary files.\n",
      "    \n",
      "    encoding is the name of the encoding used to decode or encode the\n",
      "    file. This should only be used in text mode. The default encoding is\n",
      "    platform dependent, but any encoding supported by Python can be\n",
      "    passed.  See the codecs module for the list of supported encodings.\n",
      "    \n",
      "    errors is an optional string that specifies how encoding errors are to\n",
      "    be handled---this argument should not be used in binary mode. Pass\n",
      "    'strict' to raise a ValueError exception if there is an encoding error\n",
      "    (the default of None has the same effect), or pass 'ignore' to ignore\n",
      "    errors. (Note that ignoring encoding errors can lead to data loss.)\n",
      "    See the documentation for codecs.register or run 'help(codecs.Codec)'\n",
      "    for a list of the permitted encoding error strings.\n",
      "    \n",
      "    newline controls how universal newlines works (it only applies to text\n",
      "    mode). It can be None, '', '\\n', '\\r', and '\\r\\n'.  It works as\n",
      "    follows:\n",
      "    \n",
      "    * On input, if newline is None, universal newlines mode is\n",
      "      enabled. Lines in the input can end in '\\n', '\\r', or '\\r\\n', and\n",
      "      these are translated into '\\n' before being returned to the\n",
      "      caller. If it is '', universal newline mode is enabled, but line\n",
      "      endings are returned to the caller untranslated. If it has any of\n",
      "      the other legal values, input lines are only terminated by the given\n",
      "      string, and the line ending is returned to the caller untranslated.\n",
      "    \n",
      "    * On output, if newline is None, any '\\n' characters written are\n",
      "      translated to the system default line separator, os.linesep. If\n",
      "      newline is '' or '\\n', no translation takes place. If newline is any\n",
      "      of the other legal values, any '\\n' characters written are translated\n",
      "      to the given string.\n",
      "    \n",
      "    If closefd is False, the underlying file descriptor will be kept open\n",
      "    when the file is closed. This does not work when a file name is given\n",
      "    and must be True in that case.\n",
      "    \n",
      "    A custom opener can be used by passing a callable as *opener*. The\n",
      "    underlying file descriptor for the file object is then obtained by\n",
      "    calling *opener* with (*file*, *flags*). *opener* must return an open\n",
      "    file descriptor (passing os.open as *opener* results in functionality\n",
      "    similar to passing None).\n",
      "    \n",
      "    open() returns a file object whose type depends on the mode, and\n",
      "    through which the standard file operations such as reading and writing\n",
      "    are performed. When open() is used to open a file in a text mode ('w',\n",
      "    'r', 'wt', 'rt', etc.), it returns a TextIOWrapper. When used to open\n",
      "    a file in a binary mode, the returned class varies: in read binary\n",
      "    mode, it returns a BufferedReader; in write binary and append binary\n",
      "    modes, it returns a BufferedWriter, and in read/write mode, it returns\n",
      "    a BufferedRandom.\n",
      "    \n",
      "    It is also possible to use a string or bytearray as a file for both\n",
      "    reading and writing. For strings StringIO can be used like a file\n",
      "    opened in a text mode, and for bytes a BytesIO can be used like a file\n",
      "    opened in a binary mode.\n",
      "\n"
     ]
    }
   ],
   "source": [
    "help(open)"
   ]
  },
  {
   "cell_type": "code",
   "execution_count": 10,
   "metadata": {},
   "outputs": [
    {
     "data": {
      "text/plain": [
       "158"
      ]
     },
     "execution_count": 10,
     "metadata": {},
     "output_type": "execute_result"
    }
   ],
   "source": [
    "#新建一个文件,并写入数据\n",
    "f = open('test.txt', 'w') #选择了写的模式,记得写东西进去,区分\"w\"和\"a\" 一个是清空后再写,一个是在已有文本的基础上追加\n",
    "f.write('''range是python内置函数,返回值是range对象,是一个迭代器,可以用list函数强制转换查看对象中的元素,;\n",
    "arange是扩展模块numpy中的函数,返回值是numpy中的array\n",
    "np.array(range(1,10))和np.arange(1,10)功能一样,但是后者运行速度更快,占用内存更小\n",
    "''')"
   ]
  },
  {
   "cell_type": "code",
   "execution_count": 11,
   "metadata": {},
   "outputs": [
    {
     "data": {
      "text/plain": [
       "'cp936'"
      ]
     },
     "execution_count": 11,
     "metadata": {},
     "output_type": "execute_result"
    }
   ],
   "source": [
    "f.encoding  #查看编码形式 cp936就是GBK编码《汉字内码扩展规范》"
   ]
  },
  {
   "cell_type": "code",
   "execution_count": 12,
   "metadata": {
    "collapsed": true
   },
   "outputs": [
    {
     "data": {
      "text/plain": [
       "'test.txt'"
      ]
     },
     "execution_count": 12,
     "metadata": {},
     "output_type": "execute_result"
    }
   ],
   "source": [
    "f.name"
   ]
  },
  {
   "cell_type": "code",
   "execution_count": 7,
   "metadata": {},
   "outputs": [
    {
     "data": {
      "text/plain": [
       "'w'"
      ]
     },
     "execution_count": 7,
     "metadata": {},
     "output_type": "execute_result"
    }
   ],
   "source": [
    "f.mode #查看当前操作文件的模式"
   ]
  },
  {
   "cell_type": "code",
   "execution_count": 13,
   "metadata": {},
   "outputs": [],
   "source": [
    "f.close()  #关闭文件,如果不关闭,不显示写入内容"
   ]
  },
  {
   "cell_type": "code",
   "execution_count": 14,
   "metadata": {},
   "outputs": [],
   "source": [
    "f = open('test.txt', 'a')  #追加文字"
   ]
  },
  {
   "cell_type": "code",
   "execution_count": 15,
   "metadata": {},
   "outputs": [
    {
     "data": {
      "text/plain": [
       "16"
      ]
     },
     "execution_count": 15,
     "metadata": {},
     "output_type": "execute_result"
    }
   ],
   "source": [
    "f.write(\"随便写一点什么添加到原文字的最后\")"
   ]
  },
  {
   "cell_type": "code",
   "execution_count": 16,
   "metadata": {},
   "outputs": [],
   "source": [
    "f.close()"
   ]
  },
  {
   "cell_type": "code",
   "execution_count": 153,
   "metadata": {},
   "outputs": [
    {
     "data": {
      "text/plain": [
       "23"
      ]
     },
     "execution_count": 153,
     "metadata": {},
     "output_type": "execute_result"
    }
   ],
   "source": [
    "t = open('test1.txt', 'w')\n",
    "t.write(\"hello world, i am here!\")  #显示写入了多少字符"
   ]
  },
  {
   "cell_type": "code",
   "execution_count": 157,
   "metadata": {},
   "outputs": [],
   "source": [
    "t.close()  #关闭文件后才会显示写入内容"
   ]
  },
  {
   "cell_type": "markdown",
   "metadata": {},
   "source": [
    "## 文件的读取"
   ]
  },
  {
   "cell_type": "code",
   "execution_count": 17,
   "metadata": {},
   "outputs": [],
   "source": [
    "a = open('test.txt', 'r')  "
   ]
  },
  {
   "cell_type": "code",
   "execution_count": 18,
   "metadata": {
    "scrolled": true
   },
   "outputs": [
    {
     "data": {
      "text/plain": [
       "'range是python内置函数,返回值是range对象,是一个迭代器,可以用list函数强制转换查看对象中的元素,;\\narange是扩展模块numpy中的函数,返回值是numpy中的array\\nnp.array(range(1,10))和np.arange(1,10)功能一样,但是后者运行速度更快,占用内存更小\\n随便写一点什么添加到原文字的最后'"
      ]
     },
     "execution_count": 18,
     "metadata": {},
     "output_type": "execute_result"
    }
   ],
   "source": [
    "a.read() "
   ]
  },
  {
   "cell_type": "code",
   "execution_count": 19,
   "metadata": {},
   "outputs": [],
   "source": [
    "a.close()  #不管是进行了读文件的操作还是写文件的操作,最后一步都要执行关闭文件的操作"
   ]
  },
  {
   "cell_type": "code",
   "execution_count": 46,
   "metadata": {},
   "outputs": [],
   "source": [
    "a = open('test.txt', 'r')  "
   ]
  },
  {
   "cell_type": "code",
   "execution_count": 47,
   "metadata": {},
   "outputs": [
    {
     "data": {
      "text/plain": [
       "['range是python内置函数,返回值是range对象,是一个迭代器,可以用list函数强制转换查看对象中的元素,;\\n',\n",
       " 'arange是扩展模块numpy中的函数,返回值是numpy中的array\\n',\n",
       " 'np.array(range(1,10))和np.arange(1,10)功能一样,但是后者运行速度更快,占用内存更小\\n']"
      ]
     },
     "execution_count": 47,
     "metadata": {},
     "output_type": "execute_result"
    }
   ],
   "source": [
    "a.readlines()  #分行阅读"
   ]
  },
  {
   "cell_type": "code",
   "execution_count": 48,
   "metadata": {},
   "outputs": [],
   "source": [
    "a.close()  #读完文件后不要忘记关闭文件"
   ]
  },
  {
   "cell_type": "markdown",
   "metadata": {},
   "source": [
    "如果不关闭文件:\n",
    "\n",
    "会导致内存始终被占用, 得不到释放\n",
    "\n",
    "会导致文件被占用中, 无法删除, 剪切等操作m"
   ]
  },
  {
   "cell_type": "markdown",
   "metadata": {},
   "source": [
    "'w'和'a'模式的区别"
   ]
  },
  {
   "cell_type": "code",
   "execution_count": 23,
   "metadata": {},
   "outputs": [
    {
     "data": {
      "text/plain": [
       "158"
      ]
     },
     "execution_count": 23,
     "metadata": {},
     "output_type": "execute_result"
    }
   ],
   "source": [
    "#新建一个文件,并写入数据\n",
    "f = open('testn.txt', 'w') #选择了写的模式,记得写东西进去,区分\"w\"和\"a\" 一个是清空后再写,一个是在已有文本的基础上追加\n",
    "f.write('''range是python内置函数,返回值是range对象,是一个迭代器,可以用list函数强制转换查看对象中的元素,;\n",
    "arange是扩展模块numpy中的函数,返回值是numpy中的array\n",
    "np.array(range(1,10))和np.arange(1,10)功能一样,但是后者运行速度更快,占用内存更小\n",
    "''')"
   ]
  },
  {
   "cell_type": "code",
   "execution_count": 25,
   "metadata": {},
   "outputs": [],
   "source": [
    "f.close()"
   ]
  },
  {
   "cell_type": "code",
   "execution_count": 26,
   "metadata": {},
   "outputs": [],
   "source": [
    "f1 = open('testn.txt',\"r\")"
   ]
  },
  {
   "cell_type": "code",
   "execution_count": 27,
   "metadata": {},
   "outputs": [
    {
     "data": {
      "text/plain": [
       "'range是python内置函数,返回值是range对象,是一个迭代器,可以用list函数强制转换查看对象中的元素,;\\narange是扩展模块numpy中的函数,返回值是numpy中的array\\nnp.array(range(1,10))和np.arange(1,10)功能一样,但是后者运行速度更快,占用内存更小\\n'"
      ]
     },
     "execution_count": 27,
     "metadata": {},
     "output_type": "execute_result"
    }
   ],
   "source": [
    "f1.read()"
   ]
  },
  {
   "cell_type": "code",
   "execution_count": 28,
   "metadata": {},
   "outputs": [],
   "source": [
    "f1.close()"
   ]
  },
  {
   "cell_type": "code",
   "execution_count": 44,
   "metadata": {},
   "outputs": [],
   "source": [
    "g = open('testn.txt', 'w')\n",
    "g.write(\"我就试试!\")\n",
    "g.close()"
   ]
  },
  {
   "cell_type": "code",
   "execution_count": 45,
   "metadata": {},
   "outputs": [
    {
     "data": {
      "text/plain": [
       "'我就试试!'"
      ]
     },
     "execution_count": 45,
     "metadata": {},
     "output_type": "execute_result"
    }
   ],
   "source": [
    "g1 = open('testn.txt', 'r')  #testn.txt文件在执行\"w\"的模式下,文件中原来的内容被清空重新写入了新内容\n",
    "g1.read()"
   ]
  },
  {
   "cell_type": "code",
   "execution_count": 46,
   "metadata": {},
   "outputs": [],
   "source": [
    "g1.close()"
   ]
  },
  {
   "cell_type": "code",
   "execution_count": 47,
   "metadata": {},
   "outputs": [
    {
     "data": {
      "text/plain": [
       "7"
      ]
     },
     "execution_count": 47,
     "metadata": {},
     "output_type": "execute_result"
    }
   ],
   "source": [
    "h = open('testn.txt', 'a')  #在文件已有内容后添加内容\n",
    "h.write(\"我要加点内容了\")"
   ]
  },
  {
   "cell_type": "code",
   "execution_count": 48,
   "metadata": {},
   "outputs": [],
   "source": [
    "h.close()"
   ]
  },
  {
   "cell_type": "code",
   "execution_count": 52,
   "metadata": {},
   "outputs": [
    {
     "data": {
      "text/plain": [
       "'我就试试!我要加点内容了'"
      ]
     },
     "execution_count": 52,
     "metadata": {},
     "output_type": "execute_result"
    }
   ],
   "source": [
    "h1 = open('testn.txt', 'r')\n",
    "h1.read()"
   ]
  },
  {
   "cell_type": "code",
   "execution_count": 53,
   "metadata": {},
   "outputs": [],
   "source": [
    "h1.close()"
   ]
  },
  {
   "cell_type": "code",
   "execution_count": 128,
   "metadata": {},
   "outputs": [
    {
     "data": {
      "text/plain": [
       "['range是python内置函数,返回值是range对象,是一个迭代器,可以用list函数强制转换查看对象中的元素,;\\n',\n",
       " 'arange是扩展模块numpy中的函数,返回值是numpy中的array\\n',\n",
       " 'np.array(range(1,10))和np.arange(1,10)功能一样,但是后者运行速度更快,占用内存更小\\n']"
      ]
     },
     "execution_count": 128,
     "metadata": {},
     "output_type": "execute_result"
    }
   ],
   "source": [
    "# 这样打开的文件, 代码运行结束后会自动关闭\n",
    "with open('test.txt') as f:\n",
    "    data = f.readlines()\n",
    "data"
   ]
  },
  {
   "cell_type": "markdown",
   "metadata": {},
   "source": [
    "## 文件的重命名与删除\n",
    "需要导入os模块 \n",
    "\n",
    "os模块提供了非常丰富的方法用来处理文件和目录"
   ]
  },
  {
   "cell_type": "code",
   "execution_count": 17,
   "metadata": {},
   "outputs": [],
   "source": [
    "import os   #os是对文件进行操作的第三方库"
   ]
  },
  {
   "cell_type": "code",
   "execution_count": 51,
   "metadata": {},
   "outputs": [],
   "source": [
    "os.rename('test.txt','测试.txt')"
   ]
  },
  {
   "cell_type": "code",
   "execution_count": 52,
   "metadata": {},
   "outputs": [],
   "source": [
    "os.remove('测试.txt')"
   ]
  },
  {
   "cell_type": "code",
   "execution_count": 3,
   "metadata": {},
   "outputs": [
    {
     "name": "stdout",
     "output_type": "stream",
     "text": [
      "1\n"
     ]
    }
   ],
   "source": [
    "print(os.system(\"ls\"))"
   ]
  },
  {
   "cell_type": "code",
   "execution_count": 18,
   "metadata": {},
   "outputs": [
    {
     "data": {
      "text/plain": [
       "'D:\\\\备课\\\\Python基础\\\\python基础'"
      ]
     },
     "execution_count": 18,
     "metadata": {},
     "output_type": "execute_result"
    }
   ],
   "source": [
    "os.getcwd() #获取当前路径"
   ]
  },
  {
   "cell_type": "code",
   "execution_count": 19,
   "metadata": {
    "scrolled": true
   },
   "outputs": [],
   "source": [
    "os.mkdir('临时') #创建文件夹"
   ]
  },
  {
   "cell_type": "code",
   "execution_count": 22,
   "metadata": {},
   "outputs": [
    {
     "data": {
      "text/plain": [
       "['.ipynb_checkpoints',\n",
       " 'Python基础---函数.ipynb',\n",
       " 'Python基础---列表元组集合字典.ipynb',\n",
       " 'Python基础---变量 数据类型 字符串.ipynb',\n",
       " 'Python基础---异常和IO操作.ipynb',\n",
       " 'Python基础---控制流语句.ipynb',\n",
       " 'python基础---面向对象编程.ipynb',\n",
       " 'Python基础--Python连接MySQL.ipynb',\n",
       " '临时',\n",
       " '学生信息管理系统.ipynb',\n",
       " '摄氏度与华氏度的转换.ipynb']"
      ]
     },
     "execution_count": 22,
     "metadata": {},
     "output_type": "execute_result"
    }
   ],
   "source": [
    "os.listdir() #查看当前路径下的所有文件目录"
   ]
  },
  {
   "cell_type": "code",
   "execution_count": 23,
   "metadata": {},
   "outputs": [],
   "source": [
    "os.rmdir(\"临时\")"
   ]
  },
  {
   "cell_type": "code",
   "execution_count": 24,
   "metadata": {
    "scrolled": true
   },
   "outputs": [
    {
     "data": {
      "text/plain": [
       "['.ipynb_checkpoints',\n",
       " 'Python基础---函数.ipynb',\n",
       " 'Python基础---列表元组集合字典.ipynb',\n",
       " 'Python基础---变量 数据类型 字符串.ipynb',\n",
       " 'Python基础---异常和IO操作.ipynb',\n",
       " 'Python基础---控制流语句.ipynb',\n",
       " 'python基础---面向对象编程.ipynb',\n",
       " 'Python基础--Python连接MySQL.ipynb',\n",
       " '学生信息管理系统.ipynb',\n",
       " '摄氏度与华氏度的转换.ipynb']"
      ]
     },
     "execution_count": 24,
     "metadata": {},
     "output_type": "execute_result"
    }
   ],
   "source": [
    "os.listdir() #查看当前路径下的所有文件目录"
   ]
  },
  {
   "cell_type": "markdown",
   "metadata": {},
   "source": [
    "## os方法大全"
   ]
  },
  {
   "cell_type": "markdown",
   "metadata": {},
   "source": [
    "```python\n",
    "import os\n",
    "\n",
    "print(os.getcwd())        # 获得当前工作目录\n",
    "print(os.chdir(\"dirname\")) # 改变当前脚本的工作路径，相当于shell下的cd\n",
    "print(os.curdir)            # 返回当前目录‘.'\n",
    "print(os.pardir)            # 获取当前目录的父目录字符串名‘..'\n",
    "print(os.makedirs('dirname1/dirname2'))   # 可生成多层递归目录\n",
    "print(os.removedirs('dirname1/dirname2'))  \n",
    "# 若目录为空，则删除，并递归到上一级目录，如若也为空，则删除，以此类推\n",
    "print(os.mkdir('test4'))         # 生成单级目录；相当于shell中mkdir dirname\n",
    "print(os.rmdir('test4'))        # 删除单级空目录，若目录不为空则无法删除，报错；相当于shell中rmdir dirname\n",
    "print(os.listdir('/pythonStudy/s12/test'))   \n",
    "# 列出指定目录下的所有文件和子目录，包括隐藏文件，并以列表方式打印\n",
    "print(os.remove('log.log'))            # 删除一个指定的文件\n",
    "print(os.rename(\"oldname\",\"newname\"))    # 重命名文件/目录)\n",
    "print(os.stat('/pythonStudy/s12/test'))     # 获取文件/目录信息\n",
    "print(os.pathsep)            # 输出用于分割文件路径的字符串';'\n",
    "print(os.name)               # 输出字符串指示当前使用平台。win->'nt'; Linux->'posix'\n",
    "print(os.system(command='bash'))   # 运行shell命令，直接显示\n",
    "print(os.environ)                  # 获得系统的环境变量\n",
    "print(os.path.abspath('/pythonStudy/s12/test'))   # 返回path规范化的绝对路径\n",
    "print(os.path.split('/pythonStudy/s12/test'))     # 将path分割成目录和文件名二元组返回\n",
    "print(os.path.dirname('/pythonStudy/s12/test'))  # 返回path的目录。其实就是os.path.split(path)的第一个元素\n",
    "print(os.path.basename('/pythonStudy/s12/test'))   \n",
    "# 返回path最后的文件名。如果path以／或\\结尾，那么就会返回空值。即os.path.split(path)的第二个元素\n",
    "print(os.path.exists('test'))                 # 判断path是否存在\n",
    "print(os.path.isabs('/pythonStudy/s12/test'))    # 如果path是绝对路径，返回True\n",
    "print(os.path.isfile('test'))                   # 如果path是一个存在的文件，返回True。否则返回False\n",
    "print(os.path.isdir('/pythonStudy/s12/test'))    # 如果path是一个存在的目录，则返回True。否则返回False\n",
    "print(os.path.getatime('/pythonStudy/s12/test'))   # 返回path所指向的文件或者目录的最后存取时间\n",
    "print(os.path.getmtime('/pythonStudy/s12/test'))   # 返回path所指向的文件或者目录的最后修改时间\n",
    "\n",
    "```"
   ]
  }
 ],
 "metadata": {
  "kernelspec": {
   "display_name": "Python 3",
   "language": "python",
   "name": "python3"
  },
  "language_info": {
   "codemirror_mode": {
    "name": "ipython",
    "version": 3
   },
   "file_extension": ".py",
   "mimetype": "text/x-python",
   "name": "python",
   "nbconvert_exporter": "python",
   "pygments_lexer": "ipython3",
   "version": "3.8.5"
  },
  "toc": {
   "base_numbering": 1,
   "nav_menu": {},
   "number_sections": true,
   "sideBar": true,
   "skip_h1_title": false,
   "title_cell": "Table of Contents",
   "title_sidebar": "Contents",
   "toc_cell": false,
   "toc_position": {
    "height": "calc(100% - 180px)",
    "left": "10px",
    "top": "150px",
    "width": "269.6px"
   },
   "toc_section_display": true,
   "toc_window_display": true
  },
  "varInspector": {
   "cols": {
    "lenName": 16,
    "lenType": 16,
    "lenVar": 40
   },
   "kernels_config": {
    "python": {
     "delete_cmd_postfix": "",
     "delete_cmd_prefix": "del ",
     "library": "var_list.py",
     "varRefreshCmd": "print(var_dic_list())"
    },
    "r": {
     "delete_cmd_postfix": ") ",
     "delete_cmd_prefix": "rm(",
     "library": "var_list.r",
     "varRefreshCmd": "cat(var_dic_list()) "
    }
   },
   "types_to_exclude": [
    "module",
    "function",
    "builtin_function_or_method",
    "instance",
    "_Feature"
   ],
   "window_display": false
  }
 },
 "nbformat": 4,
 "nbformat_minor": 2
}
