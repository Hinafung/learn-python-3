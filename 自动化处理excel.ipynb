{
 "cells": [
  {
   "cell_type": "markdown",
   "metadata": {},
   "source": [
    "# 案例需求"
   ]
  },
  {
   "attachments": {
    "image.png": {
     "image/png": "[encoded data removed]"
    }
   },
   "cell_type": "markdown",
   "metadata": {},
   "source": [
    "按照品牌种类，统计py_excel文件中所有excel的销售额，并按照销售额大小倒序排列。其中，销售额 = 访客数 x 转化率 x 客单价。\n",
    "![image.png](attachment:image.png)"
   ]
  },
  {
   "cell_type": "markdown",
   "metadata": {},
   "source": [
    "# OS模块"
   ]
  },
  {
   "cell_type": "markdown",
   "metadata": {},
   "source": [
    "os模块提供了多数操作系统的功能接口函数。当os模块被导入后，它会自适应于不同的操作系统平台，根据不同的平台进行相应的操作，在python自动化处理excel时，经常和文件、目录打交道，这时就离不了os模块，本节内容将对os模块常用函数进行详细的解读。"
   ]
  },
  {
   "cell_type": "code",
   "execution_count": 2,
   "metadata": {},
   "outputs": [],
   "source": [
    "import os"
   ]
  },
  {
   "cell_type": "markdown",
   "metadata": {},
   "source": [
    "## os.name"
   ]
  },
  {
   "cell_type": "markdown",
   "metadata": {},
   "source": [
    "name顾名思义就是'名字'，这里的名字是指操作系统的名字，主要作用是判断目前正在使用的平台，并给出操作系统的名字，如Windows返回 'nt'; Linux 返回'posix'。注意该命令不带括号。"
   ]
  },
  {
   "cell_type": "code",
   "execution_count": 3,
   "metadata": {},
   "outputs": [
    {
     "data": {
      "text/plain": [
       "'posix'"
      ]
     },
     "execution_count": 3,
     "metadata": {},
     "output_type": "execute_result"
    }
   ],
   "source": [
    "os.name"
   ]
  },
  {
   "cell_type": "markdown",
   "metadata": {},
   "source": [
    "## os.getcwd()"
   ]
  },
  {
   "cell_type": "markdown",
   "metadata": {},
   "source": [
    "全称应该是'get current work directory'，获取当前工作的目录。注意该命令带括号，除了第一个命令不带括号之外，以下命令基本都带括号。"
   ]
  },
  {
   "cell_type": "code",
   "execution_count": 3,
   "metadata": {
    "scrolled": true
   },
   "outputs": [
    {
     "data": {
      "text/plain": [
       "'D:\\\\python课程\\\\项目\\\\自动化处理excel'"
      ]
     },
     "execution_count": 3,
     "metadata": {},
     "output_type": "execute_result"
    }
   ],
   "source": [
    "os.getcwd()"
   ]
  },
  {
   "cell_type": "markdown",
   "metadata": {},
   "source": [
    "## os.listdir(path)"
   ]
  },
  {
   "cell_type": "markdown",
   "metadata": {},
   "source": [
    "列出path目录下所有的文件和目录名。Path参数可以省略(省略的话默认为当前目录)。以列表的形式全部列举出来，其中没有区分目录和文件。"
   ]
  },
  {
   "cell_type": "code",
   "execution_count": 4,
   "metadata": {},
   "outputs": [
    {
     "data": {
      "text/plain": [
       "['.ipynb_checkpoints', 'py_excel', 'test', 'test.xlsx', '自动化处理excel.ipynb']"
      ]
     },
     "execution_count": 4,
     "metadata": {},
     "output_type": "execute_result"
    }
   ],
   "source": [
    "os.listdir()"
   ]
  },
  {
   "cell_type": "code",
   "execution_count": 5,
   "metadata": {
    "scrolled": true
   },
   "outputs": [
    {
     "data": {
      "text/plain": [
       "['专项户外运动装备&冰爪.xlsx',\n",
       " '专项户外运动装备&呼吸管-呼吸器.xlsx',\n",
       " '专项户外运动装备&安全带.xlsx',\n",
       " '专项户外运动装备&救生衣.xlsx',\n",
       " '专项户外运动装备&气瓶.xlsx',\n",
       " '专项户外运动装备&滑雪头盔.xlsx']"
      ]
     },
     "execution_count": 5,
     "metadata": {},
     "output_type": "execute_result"
    }
   ],
   "source": [
    "path=\"D:\\\\python课程\\\\项目\\\\自动化处理excel\\\\py_excel\"\n",
    "os.listdir(path)"
   ]
  },
  {
   "cell_type": "markdown",
   "metadata": {},
   "source": [
    "## os.remove(path)"
   ]
  },
  {
   "cell_type": "markdown",
   "metadata": {},
   "source": [
    "删除path指定的文件，该参数不能省略。"
   ]
  },
  {
   "cell_type": "code",
   "execution_count": 7,
   "metadata": {},
   "outputs": [],
   "source": [
    "path=\"D:\\\\python课程\\\\项目\\\\自动化处理excel\\\\test.xlsx\"\n",
    "os.remove(path)"
   ]
  },
  {
   "cell_type": "code",
   "execution_count": 8,
   "metadata": {},
   "outputs": [
    {
     "data": {
      "text/plain": [
       "['.ipynb_checkpoints', 'py_excel', 'test', '自动化处理excel.ipynb']"
      ]
     },
     "execution_count": 8,
     "metadata": {},
     "output_type": "execute_result"
    }
   ],
   "source": [
    "os.listdir()#test.xlsx文件已删除"
   ]
  },
  {
   "cell_type": "markdown",
   "metadata": {},
   "source": [
    "## os.rmdir(path)"
   ]
  },
  {
   "cell_type": "markdown",
   "metadata": {},
   "source": [
    "删除path指定的目录，该参数不能省略。"
   ]
  },
  {
   "cell_type": "code",
   "execution_count": 9,
   "metadata": {},
   "outputs": [],
   "source": [
    "path=\"D:\\\\python课程\\\\项目\\\\自动化处理excel\\\\test\"\n",
    "os.rmdir(path)"
   ]
  },
  {
   "cell_type": "code",
   "execution_count": 10,
   "metadata": {},
   "outputs": [
    {
     "data": {
      "text/plain": [
       "['.ipynb_checkpoints', 'py_excel', '自动化处理excel.ipynb']"
      ]
     },
     "execution_count": 10,
     "metadata": {},
     "output_type": "execute_result"
    }
   ],
   "source": [
    "os.listdir()#test目录已删除"
   ]
  },
  {
   "cell_type": "markdown",
   "metadata": {},
   "source": [
    "##  os.mkdir(path)"
   ]
  },
  {
   "cell_type": "markdown",
   "metadata": {},
   "source": [
    "创建path指定的目录，该参数不能省略。注意：这样只能建立一层，要想递归建立可用：os.makedirs()。"
   ]
  },
  {
   "cell_type": "code",
   "execution_count": 13,
   "metadata": {},
   "outputs": [
    {
     "data": {
      "text/plain": [
       "['.ipynb_checkpoints', 'py_excel', 'test', '自动化处理excel.ipynb']"
      ]
     },
     "execution_count": 13,
     "metadata": {},
     "output_type": "execute_result"
    }
   ],
   "source": [
    "path=\"D:\\\\python课程\\\\项目\\\\自动化处理excel\\\\test\"\n",
    "os.mkdir(path)\n",
    "os.listdir()#test目录已创建"
   ]
  },
  {
   "cell_type": "code",
   "execution_count": 14,
   "metadata": {
    "scrolled": true
   },
   "outputs": [
    {
     "ename": "FileNotFoundError",
     "evalue": "[WinError 3] 系统找不到指定的路径。: 'D:\\\\python课程\\\\项目\\\\自动化处理excel\\\\test1\\\\test2'",
     "output_type": "error",
     "traceback": [
      "\u001b[1;31m---------------------------------------------------------------------------\u001b[0m",
      "\u001b[1;31mFileNotFoundError\u001b[0m                         Traceback (most recent call last)",
      "\u001b[1;32m<ipython-input-14-2d69f65d4bd4>\u001b[0m in \u001b[0;36m<module>\u001b[1;34m\u001b[0m\n\u001b[0;32m      1\u001b[0m \u001b[0mpath\u001b[0m\u001b[1;33m=\u001b[0m\u001b[1;34m\"D:\\\\python课程\\\\项目\\\\自动化处理excel\\\\test1\\\\test2\"\u001b[0m\u001b[1;33m\u001b[0m\u001b[1;33m\u001b[0m\u001b[0m\n\u001b[1;32m----> 2\u001b[1;33m \u001b[0mos\u001b[0m\u001b[1;33m.\u001b[0m\u001b[0mmkdir\u001b[0m\u001b[1;33m(\u001b[0m\u001b[0mpath\u001b[0m\u001b[1;33m)\u001b[0m\u001b[1;31m#因为test目录不存在，\u001b[0m\u001b[1;33m\u001b[0m\u001b[1;33m\u001b[0m\u001b[0m\n\u001b[0m",
      "\u001b[1;31mFileNotFoundError\u001b[0m: [WinError 3] 系统找不到指定的路径。: 'D:\\\\python课程\\\\项目\\\\自动化处理excel\\\\test1\\\\test2'"
     ]
    }
   ],
   "source": [
    "path=\"D:\\\\python课程\\\\项目\\\\自动化处理excel\\\\test1\\\\test2\"\n",
    "os.mkdir(path)#因为test1目录不存在，因此需要os.makedirs()递归建立"
   ]
  },
  {
   "cell_type": "code",
   "execution_count": 15,
   "metadata": {},
   "outputs": [
    {
     "data": {
      "text/plain": [
       "['.ipynb_checkpoints', 'py_excel', 'test', 'test1', '自动化处理excel.ipynb']"
      ]
     },
     "execution_count": 15,
     "metadata": {},
     "output_type": "execute_result"
    }
   ],
   "source": [
    "path=\"D:\\\\python课程\\\\项目\\\\自动化处理excel\\\\test1\\\\test2\"\n",
    "os.makedirs(path)\n",
    "os.listdir()#test1目录已创建"
   ]
  },
  {
   "cell_type": "code",
   "execution_count": 16,
   "metadata": {
    "scrolled": true
   },
   "outputs": [
    {
     "data": {
      "text/plain": [
       "['test2']"
      ]
     },
     "execution_count": 16,
     "metadata": {},
     "output_type": "execute_result"
    }
   ],
   "source": [
    "os.listdir(\"D:\\\\python课程\\\\项目\\\\自动化处理excel\\\\test1\")#test2目录已创建"
   ]
  },
  {
   "cell_type": "markdown",
   "metadata": {},
   "source": [
    "## os.path.isfile(path)"
   ]
  },
  {
   "cell_type": "markdown",
   "metadata": {},
   "source": [
    "判断指定对象是否为文件。是返回True,否则False。"
   ]
  },
  {
   "cell_type": "code",
   "execution_count": 17,
   "metadata": {},
   "outputs": [
    {
     "data": {
      "text/plain": [
       "False"
      ]
     },
     "execution_count": 17,
     "metadata": {},
     "output_type": "execute_result"
    }
   ],
   "source": [
    "os.path.isfile('test')"
   ]
  },
  {
   "cell_type": "code",
   "execution_count": 18,
   "metadata": {},
   "outputs": [
    {
     "data": {
      "text/plain": [
       "True"
      ]
     },
     "execution_count": 18,
     "metadata": {},
     "output_type": "execute_result"
    }
   ],
   "source": [
    "os.path.isfile('自动化处理excel.ipynb')"
   ]
  },
  {
   "cell_type": "markdown",
   "metadata": {},
   "source": [
    "## os.path.isdir(path)"
   ]
  },
  {
   "cell_type": "markdown",
   "metadata": {},
   "source": [
    "判断指定对象是否为目录。是True,否则False。"
   ]
  },
  {
   "cell_type": "code",
   "execution_count": 19,
   "metadata": {},
   "outputs": [
    {
     "data": {
      "text/plain": [
       "True"
      ]
     },
     "execution_count": 19,
     "metadata": {},
     "output_type": "execute_result"
    }
   ],
   "source": [
    "os.path.isdir('test')"
   ]
  },
  {
   "cell_type": "code",
   "execution_count": 20,
   "metadata": {},
   "outputs": [
    {
     "data": {
      "text/plain": [
       "False"
      ]
     },
     "execution_count": 20,
     "metadata": {},
     "output_type": "execute_result"
    }
   ],
   "source": [
    "os.path.isdir('自动化处理excel.ipynb')"
   ]
  },
  {
   "cell_type": "markdown",
   "metadata": {},
   "source": [
    "## os.path.exists(path)"
   ]
  },
  {
   "cell_type": "markdown",
   "metadata": {},
   "source": [
    "检验指定的对象是否存在。是True,否则False。"
   ]
  },
  {
   "cell_type": "code",
   "execution_count": 21,
   "metadata": {},
   "outputs": [
    {
     "data": {
      "text/plain": [
       "True"
      ]
     },
     "execution_count": 21,
     "metadata": {},
     "output_type": "execute_result"
    }
   ],
   "source": [
    "os.path.exists('test')"
   ]
  },
  {
   "cell_type": "code",
   "execution_count": 22,
   "metadata": {},
   "outputs": [
    {
     "data": {
      "text/plain": [
       "False"
      ]
     },
     "execution_count": 22,
     "metadata": {},
     "output_type": "execute_result"
    }
   ],
   "source": [
    "os.path.exists('test3')"
   ]
  },
  {
   "cell_type": "markdown",
   "metadata": {},
   "source": [
    "## os.path.split(path)"
   ]
  },
  {
   "cell_type": "markdown",
   "metadata": {},
   "source": [
    "返回路径的目录和文件名，即将目录和文件名分开，而不是一个整体。此处只是把前后两部分分开而已。就是找最后一个'/'。"
   ]
  },
  {
   "cell_type": "code",
   "execution_count": 24,
   "metadata": {},
   "outputs": [
    {
     "data": {
      "text/plain": [
       "('D:\\\\python课程\\\\项目\\\\自动化处理excel', '自动化处理excel.ipynb')"
      ]
     },
     "execution_count": 24,
     "metadata": {},
     "output_type": "execute_result"
    }
   ],
   "source": [
    "os.path.split('D:\\\\python课程\\\\项目\\\\自动化处理excel\\\\自动化处理excel.ipynb')"
   ]
  },
  {
   "cell_type": "markdown",
   "metadata": {},
   "source": [
    "## os.chdir(path)"
   ]
  },
  {
   "cell_type": "markdown",
   "metadata": {},
   "source": [
    "'change dir'改变目录到指定目录。"
   ]
  },
  {
   "cell_type": "code",
   "execution_count": 28,
   "metadata": {},
   "outputs": [
    {
     "data": {
      "text/plain": [
       "'D:\\\\python课程\\\\项目\\\\自动化处理excel'"
      ]
     },
     "execution_count": 28,
     "metadata": {},
     "output_type": "execute_result"
    }
   ],
   "source": [
    "os.getcwd()"
   ]
  },
  {
   "cell_type": "code",
   "execution_count": 29,
   "metadata": {},
   "outputs": [
    {
     "data": {
      "text/plain": [
       "'D:\\\\python课程\\\\项目\\\\自动化处理excel\\\\py_excel'"
      ]
     },
     "execution_count": 29,
     "metadata": {},
     "output_type": "execute_result"
    }
   ],
   "source": [
    "os.chdir(\"D:\\\\python课程\\\\项目\\\\自动化处理excel\\\\py_excel\")\n",
    "os.getcwd()"
   ]
  },
  {
   "cell_type": "code",
   "execution_count": null,
   "metadata": {},
   "outputs": [],
   "source": []
  },
  {
   "cell_type": "markdown",
   "metadata": {},
   "source": [
    "# 单个表统计销售额"
   ]
  },
  {
   "cell_type": "code",
   "execution_count": 30,
   "metadata": {},
   "outputs": [
    {
     "data": {
      "text/html": [
       "<div>\n",
       "<style scoped>\n",
       "    .dataframe tbody tr th:only-of-type {\n",
       "        vertical-align: middle;\n",
       "    }\n",
       "\n",
       "    .dataframe tbody tr th {\n",
       "        vertical-align: top;\n",
       "    }\n",
       "\n",
       "    .dataframe thead th {\n",
       "        text-align: right;\n",
       "    }\n",
       "</style>\n",
       "<table border=\"1\" class=\"dataframe\">\n",
       "  <thead>\n",
       "    <tr style=\"text-align: right;\">\n",
       "      <th></th>\n",
       "      <th>日期</th>\n",
       "      <th>转化率</th>\n",
       "      <th>访客数</th>\n",
       "      <th>三级类目</th>\n",
       "      <th>客单价</th>\n",
       "      <th>品牌</th>\n",
       "    </tr>\n",
       "  </thead>\n",
       "  <tbody>\n",
       "    <tr>\n",
       "      <th>0</th>\n",
       "      <td>2019-08</td>\n",
       "      <td>0.104957</td>\n",
       "      <td>30225</td>\n",
       "      <td>安全带</td>\n",
       "      <td>123.275654</td>\n",
       "      <td>品牌-10</td>\n",
       "    </tr>\n",
       "    <tr>\n",
       "      <th>1</th>\n",
       "      <td>2019-08</td>\n",
       "      <td>0.052431</td>\n",
       "      <td>40765</td>\n",
       "      <td>安全带</td>\n",
       "      <td>174.793849</td>\n",
       "      <td>品牌-2</td>\n",
       "    </tr>\n",
       "    <tr>\n",
       "      <th>2</th>\n",
       "      <td>2019-08</td>\n",
       "      <td>0.079985</td>\n",
       "      <td>33015</td>\n",
       "      <td>安全带</td>\n",
       "      <td>117.725921</td>\n",
       "      <td>品牌-9</td>\n",
       "    </tr>\n",
       "    <tr>\n",
       "      <th>3</th>\n",
       "      <td>2019-08</td>\n",
       "      <td>0.062381</td>\n",
       "      <td>16647</td>\n",
       "      <td>安全带</td>\n",
       "      <td>208.560443</td>\n",
       "      <td>品牌-11</td>\n",
       "    </tr>\n",
       "    <tr>\n",
       "      <th>4</th>\n",
       "      <td>2019-08</td>\n",
       "      <td>0.022006</td>\n",
       "      <td>9424</td>\n",
       "      <td>安全带</td>\n",
       "      <td>968.965343</td>\n",
       "      <td>品牌-18</td>\n",
       "    </tr>\n",
       "  </tbody>\n",
       "</table>\n",
       "</div>"
      ],
      "text/plain": [
       "        日期       转化率    访客数 三级类目         客单价     品牌\n",
       "0  2019-08  0.104957  30225  安全带  123.275654  品牌-10\n",
       "1  2019-08  0.052431  40765  安全带  174.793849   品牌-2\n",
       "2  2019-08  0.079985  33015  安全带  117.725921   品牌-9\n",
       "3  2019-08  0.062381  16647  安全带  208.560443  品牌-11\n",
       "4  2019-08  0.022006   9424  安全带  968.965343  品牌-18"
      ]
     },
     "execution_count": 30,
     "metadata": {},
     "output_type": "execute_result"
    }
   ],
   "source": [
    "import os\n",
    "import pandas as pd\n",
    "\n",
    "path=\"D:\\\\python课程\\\\项目\\\\自动化处理excel\\\\py_excel\"\n",
    "os.chdir(path)#指定路径到存放excel的目录\n",
    "name='专项户外运动装备&安全带.xlsx'#需要读取的excel名\n",
    "data=pd.read_excel(name)\n",
    "data.head()"
   ]
  },
  {
   "cell_type": "code",
   "execution_count": 31,
   "metadata": {},
   "outputs": [
    {
     "data": {
      "text/html": [
       "<div>\n",
       "<style scoped>\n",
       "    .dataframe tbody tr th:only-of-type {\n",
       "        vertical-align: middle;\n",
       "    }\n",
       "\n",
       "    .dataframe tbody tr th {\n",
       "        vertical-align: top;\n",
       "    }\n",
       "\n",
       "    .dataframe thead th {\n",
       "        text-align: right;\n",
       "    }\n",
       "</style>\n",
       "<table border=\"1\" class=\"dataframe\">\n",
       "  <thead>\n",
       "    <tr style=\"text-align: right;\">\n",
       "      <th></th>\n",
       "      <th>日期</th>\n",
       "      <th>转化率</th>\n",
       "      <th>访客数</th>\n",
       "      <th>三级类目</th>\n",
       "      <th>客单价</th>\n",
       "      <th>品牌</th>\n",
       "      <th>销售额</th>\n",
       "    </tr>\n",
       "  </thead>\n",
       "  <tbody>\n",
       "    <tr>\n",
       "      <th>0</th>\n",
       "      <td>2019-08</td>\n",
       "      <td>0.104957</td>\n",
       "      <td>30225</td>\n",
       "      <td>安全带</td>\n",
       "      <td>123.275654</td>\n",
       "      <td>品牌-10</td>\n",
       "      <td>391069.561859</td>\n",
       "    </tr>\n",
       "    <tr>\n",
       "      <th>1</th>\n",
       "      <td>2019-08</td>\n",
       "      <td>0.052431</td>\n",
       "      <td>40765</td>\n",
       "      <td>安全带</td>\n",
       "      <td>174.793849</td>\n",
       "      <td>品牌-2</td>\n",
       "      <td>373592.297539</td>\n",
       "    </tr>\n",
       "    <tr>\n",
       "      <th>2</th>\n",
       "      <td>2019-08</td>\n",
       "      <td>0.079985</td>\n",
       "      <td>33015</td>\n",
       "      <td>安全带</td>\n",
       "      <td>117.725921</td>\n",
       "      <td>品牌-9</td>\n",
       "      <td>310880.469714</td>\n",
       "    </tr>\n",
       "    <tr>\n",
       "      <th>3</th>\n",
       "      <td>2019-08</td>\n",
       "      <td>0.062381</td>\n",
       "      <td>16647</td>\n",
       "      <td>安全带</td>\n",
       "      <td>208.560443</td>\n",
       "      <td>品牌-11</td>\n",
       "      <td>216580.463155</td>\n",
       "    </tr>\n",
       "    <tr>\n",
       "      <th>4</th>\n",
       "      <td>2019-08</td>\n",
       "      <td>0.022006</td>\n",
       "      <td>9424</td>\n",
       "      <td>安全带</td>\n",
       "      <td>968.965343</td>\n",
       "      <td>品牌-18</td>\n",
       "      <td>200944.035662</td>\n",
       "    </tr>\n",
       "  </tbody>\n",
       "</table>\n",
       "</div>"
      ],
      "text/plain": [
       "        日期       转化率    访客数 三级类目         客单价     品牌            销售额\n",
       "0  2019-08  0.104957  30225  安全带  123.275654  品牌-10  391069.561859\n",
       "1  2019-08  0.052431  40765  安全带  174.793849   品牌-2  373592.297539\n",
       "2  2019-08  0.079985  33015  安全带  117.725921   品牌-9  310880.469714\n",
       "3  2019-08  0.062381  16647  安全带  208.560443  品牌-11  216580.463155\n",
       "4  2019-08  0.022006   9424  安全带  968.965343  品牌-18  200944.035662"
      ]
     },
     "execution_count": 31,
     "metadata": {},
     "output_type": "execute_result"
    }
   ],
   "source": [
    "#计算销售额\n",
    "data[\"销售额\"] = data[\"转化率\"] * data[\"访客数\"] * data[\"客单价\"]\n",
    "data.head()"
   ]
  },
  {
   "cell_type": "code",
   "execution_count": 32,
   "metadata": {},
   "outputs": [
    {
     "data": {
      "text/html": [
       "<div>\n",
       "<style scoped>\n",
       "    .dataframe tbody tr th:only-of-type {\n",
       "        vertical-align: middle;\n",
       "    }\n",
       "\n",
       "    .dataframe tbody tr th {\n",
       "        vertical-align: top;\n",
       "    }\n",
       "\n",
       "    .dataframe thead th {\n",
       "        text-align: right;\n",
       "    }\n",
       "</style>\n",
       "<table border=\"1\" class=\"dataframe\">\n",
       "  <thead>\n",
       "    <tr style=\"text-align: right;\">\n",
       "      <th></th>\n",
       "      <th>品牌</th>\n",
       "      <th>销售额</th>\n",
       "    </tr>\n",
       "  </thead>\n",
       "  <tbody>\n",
       "    <tr>\n",
       "      <th>0</th>\n",
       "      <td>品牌-1</td>\n",
       "      <td>2.085333e+06</td>\n",
       "    </tr>\n",
       "    <tr>\n",
       "      <th>1</th>\n",
       "      <td>品牌-10</td>\n",
       "      <td>1.820282e+06</td>\n",
       "    </tr>\n",
       "    <tr>\n",
       "      <th>2</th>\n",
       "      <td>品牌-11</td>\n",
       "      <td>1.534714e+06</td>\n",
       "    </tr>\n",
       "    <tr>\n",
       "      <th>3</th>\n",
       "      <td>品牌-12</td>\n",
       "      <td>9.362469e+05</td>\n",
       "    </tr>\n",
       "    <tr>\n",
       "      <th>4</th>\n",
       "      <td>品牌-13</td>\n",
       "      <td>1.626291e+06</td>\n",
       "    </tr>\n",
       "    <tr>\n",
       "      <th>5</th>\n",
       "      <td>品牌-14</td>\n",
       "      <td>1.369427e+06</td>\n",
       "    </tr>\n",
       "    <tr>\n",
       "      <th>6</th>\n",
       "      <td>品牌-15</td>\n",
       "      <td>1.255952e+06</td>\n",
       "    </tr>\n",
       "    <tr>\n",
       "      <th>7</th>\n",
       "      <td>品牌-16</td>\n",
       "      <td>1.087956e+06</td>\n",
       "    </tr>\n",
       "    <tr>\n",
       "      <th>8</th>\n",
       "      <td>品牌-17</td>\n",
       "      <td>1.436410e+06</td>\n",
       "    </tr>\n",
       "    <tr>\n",
       "      <th>9</th>\n",
       "      <td>品牌-18</td>\n",
       "      <td>1.280775e+06</td>\n",
       "    </tr>\n",
       "    <tr>\n",
       "      <th>10</th>\n",
       "      <td>品牌-19</td>\n",
       "      <td>1.438192e+06</td>\n",
       "    </tr>\n",
       "    <tr>\n",
       "      <th>11</th>\n",
       "      <td>品牌-2</td>\n",
       "      <td>1.846514e+06</td>\n",
       "    </tr>\n",
       "    <tr>\n",
       "      <th>12</th>\n",
       "      <td>品牌-20</td>\n",
       "      <td>1.282297e+06</td>\n",
       "    </tr>\n",
       "    <tr>\n",
       "      <th>13</th>\n",
       "      <td>品牌-3</td>\n",
       "      <td>9.147601e+05</td>\n",
       "    </tr>\n",
       "    <tr>\n",
       "      <th>14</th>\n",
       "      <td>品牌-4</td>\n",
       "      <td>1.805661e+06</td>\n",
       "    </tr>\n",
       "    <tr>\n",
       "      <th>15</th>\n",
       "      <td>品牌-5</td>\n",
       "      <td>1.597360e+06</td>\n",
       "    </tr>\n",
       "    <tr>\n",
       "      <th>16</th>\n",
       "      <td>品牌-6</td>\n",
       "      <td>1.578763e+06</td>\n",
       "    </tr>\n",
       "    <tr>\n",
       "      <th>17</th>\n",
       "      <td>品牌-7</td>\n",
       "      <td>1.623392e+06</td>\n",
       "    </tr>\n",
       "    <tr>\n",
       "      <th>18</th>\n",
       "      <td>品牌-8</td>\n",
       "      <td>1.216924e+06</td>\n",
       "    </tr>\n",
       "    <tr>\n",
       "      <th>19</th>\n",
       "      <td>品牌-9</td>\n",
       "      <td>1.417819e+06</td>\n",
       "    </tr>\n",
       "  </tbody>\n",
       "</table>\n",
       "</div>"
      ],
      "text/plain": [
       "       品牌           销售额\n",
       "0    品牌-1  2.085333e+06\n",
       "1   品牌-10  1.820282e+06\n",
       "2   品牌-11  1.534714e+06\n",
       "3   品牌-12  9.362469e+05\n",
       "4   品牌-13  1.626291e+06\n",
       "5   品牌-14  1.369427e+06\n",
       "6   品牌-15  1.255952e+06\n",
       "7   品牌-16  1.087956e+06\n",
       "8   品牌-17  1.436410e+06\n",
       "9   品牌-18  1.280775e+06\n",
       "10  品牌-19  1.438192e+06\n",
       "11   品牌-2  1.846514e+06\n",
       "12  品牌-20  1.282297e+06\n",
       "13   品牌-3  9.147601e+05\n",
       "14   品牌-4  1.805661e+06\n",
       "15   品牌-5  1.597360e+06\n",
       "16   品牌-6  1.578763e+06\n",
       "17   品牌-7  1.623392e+06\n",
       "18   品牌-8  1.216924e+06\n",
       "19   品牌-9  1.417819e+06"
      ]
     },
     "execution_count": 32,
     "metadata": {},
     "output_type": "execute_result"
    }
   ],
   "source": [
    "#按照品牌进行分组，并对销售额求和\n",
    "data_sum = data.groupby(\"品牌\")[\"销售额\"].sum().reset_index()\n",
    "data_sum"
   ]
  },
  {
   "cell_type": "markdown",
   "metadata": {},
   "source": [
    "# 统计所有表的销售额"
   ]
  },
  {
   "cell_type": "code",
   "execution_count": 44,
   "metadata": {},
   "outputs": [
    {
     "name": "stdout",
     "output_type": "stream",
     "text": [
      "总计算时间：0.24178266525268555\n"
     ]
    }
   ],
   "source": [
    "import os \n",
    "import pandas as pd\n",
    "import time\n",
    "\n",
    "start_time = time.time()\n",
    "result = pd.DataFrame()\n",
    "path=\"D:\\python课程\\项目\\自动化处理excel\\py_excel\"\n",
    "\n",
    "#循环遍历表格结果\n",
    "for name in os.listdir(path):\n",
    "    df = pd.read_excel(path+'\\\\'+name)\n",
    "    df[\"销售额\"] = df[\"访客数\"] * df[\"转化率\"] * df[\"客单价\"]\n",
    "    df_sum = df.groupby(\"品牌\")[\"销售额\"].sum().reset_index()\n",
    "    result = pd.concat([result,df_sum])\n",
    "    \n",
    "final = result.groupby(\"品牌\")[\"销售额\"].sum().reset_index().sort_values(\"销售额\",ascending=False)\n",
    "pd.set_option(\"display.float_format\",lambda x: \"%.2f\" %x)#float类型数据保留两位小数\n",
    "final.to_excel(r'D:\\python课程\\项目\\自动化处理excel\\result.xlsx',index=False)\n",
    "\n",
    "end_time = time.time()\n",
    "during_time = end_time - start_time\n",
    "print('总计算时间：{}'.format(during_time))"
   ]
  },
  {
   "cell_type": "code",
   "execution_count": 45,
   "metadata": {},
   "outputs": [
    {
     "data": {
      "text/html": [
       "<div>\n",
       "<style scoped>\n",
       "    .dataframe tbody tr th:only-of-type {\n",
       "        vertical-align: middle;\n",
       "    }\n",
       "\n",
       "    .dataframe tbody tr th {\n",
       "        vertical-align: top;\n",
       "    }\n",
       "\n",
       "    .dataframe thead th {\n",
       "        text-align: right;\n",
       "    }\n",
       "</style>\n",
       "<table border=\"1\" class=\"dataframe\">\n",
       "  <thead>\n",
       "    <tr style=\"text-align: right;\">\n",
       "      <th></th>\n",
       "      <th>品牌</th>\n",
       "      <th>销售额</th>\n",
       "    </tr>\n",
       "  </thead>\n",
       "  <tbody>\n",
       "    <tr>\n",
       "      <th>14</th>\n",
       "      <td>品牌-4</td>\n",
       "      <td>7889697.26</td>\n",
       "    </tr>\n",
       "    <tr>\n",
       "      <th>0</th>\n",
       "      <td>品牌-1</td>\n",
       "      <td>7834776.40</td>\n",
       "    </tr>\n",
       "    <tr>\n",
       "      <th>9</th>\n",
       "      <td>品牌-18</td>\n",
       "      <td>7376308.30</td>\n",
       "    </tr>\n",
       "    <tr>\n",
       "      <th>13</th>\n",
       "      <td>品牌-3</td>\n",
       "      <td>7023001.09</td>\n",
       "    </tr>\n",
       "    <tr>\n",
       "      <th>10</th>\n",
       "      <td>品牌-19</td>\n",
       "      <td>6880154.22</td>\n",
       "    </tr>\n",
       "    <tr>\n",
       "      <th>6</th>\n",
       "      <td>品牌-15</td>\n",
       "      <td>6495826.63</td>\n",
       "    </tr>\n",
       "    <tr>\n",
       "      <th>17</th>\n",
       "      <td>品牌-7</td>\n",
       "      <td>6436456.31</td>\n",
       "    </tr>\n",
       "    <tr>\n",
       "      <th>4</th>\n",
       "      <td>品牌-13</td>\n",
       "      <td>6391561.70</td>\n",
       "    </tr>\n",
       "    <tr>\n",
       "      <th>12</th>\n",
       "      <td>品牌-20</td>\n",
       "      <td>6294270.21</td>\n",
       "    </tr>\n",
       "    <tr>\n",
       "      <th>1</th>\n",
       "      <td>品牌-10</td>\n",
       "      <td>6116006.38</td>\n",
       "    </tr>\n",
       "    <tr>\n",
       "      <th>19</th>\n",
       "      <td>品牌-9</td>\n",
       "      <td>6054976.97</td>\n",
       "    </tr>\n",
       "    <tr>\n",
       "      <th>2</th>\n",
       "      <td>品牌-11</td>\n",
       "      <td>5962815.95</td>\n",
       "    </tr>\n",
       "    <tr>\n",
       "      <th>7</th>\n",
       "      <td>品牌-16</td>\n",
       "      <td>5942665.64</td>\n",
       "    </tr>\n",
       "    <tr>\n",
       "      <th>11</th>\n",
       "      <td>品牌-2</td>\n",
       "      <td>5825488.43</td>\n",
       "    </tr>\n",
       "    <tr>\n",
       "      <th>16</th>\n",
       "      <td>品牌-6</td>\n",
       "      <td>5743673.82</td>\n",
       "    </tr>\n",
       "    <tr>\n",
       "      <th>15</th>\n",
       "      <td>品牌-5</td>\n",
       "      <td>5371472.45</td>\n",
       "    </tr>\n",
       "    <tr>\n",
       "      <th>8</th>\n",
       "      <td>品牌-17</td>\n",
       "      <td>5178283.64</td>\n",
       "    </tr>\n",
       "    <tr>\n",
       "      <th>5</th>\n",
       "      <td>品牌-14</td>\n",
       "      <td>5106457.81</td>\n",
       "    </tr>\n",
       "    <tr>\n",
       "      <th>3</th>\n",
       "      <td>品牌-12</td>\n",
       "      <td>5066794.99</td>\n",
       "    </tr>\n",
       "    <tr>\n",
       "      <th>18</th>\n",
       "      <td>品牌-8</td>\n",
       "      <td>4820187.05</td>\n",
       "    </tr>\n",
       "  </tbody>\n",
       "</table>\n",
       "</div>"
      ],
      "text/plain": [
       "       品牌        销售额\n",
       "14   品牌-4 7889697.26\n",
       "0    品牌-1 7834776.40\n",
       "9   品牌-18 7376308.30\n",
       "13   品牌-3 7023001.09\n",
       "10  品牌-19 6880154.22\n",
       "6   品牌-15 6495826.63\n",
       "17   品牌-7 6436456.31\n",
       "4   品牌-13 6391561.70\n",
       "12  品牌-20 6294270.21\n",
       "1   品牌-10 6116006.38\n",
       "19   品牌-9 6054976.97\n",
       "2   品牌-11 5962815.95\n",
       "7   品牌-16 5942665.64\n",
       "11   品牌-2 5825488.43\n",
       "16   品牌-6 5743673.82\n",
       "15   品牌-5 5371472.45\n",
       "8   品牌-17 5178283.64\n",
       "5   品牌-14 5106457.81\n",
       "3   品牌-12 5066794.99\n",
       "18   品牌-8 4820187.05"
      ]
     },
     "execution_count": 45,
     "metadata": {},
     "output_type": "execute_result"
    }
   ],
   "source": [
    "final"
   ]
  },
  {
   "cell_type": "code",
   "execution_count": null,
   "metadata": {},
   "outputs": [],
   "source": []
  },
  {
   "cell_type": "code",
   "execution_count": null,
   "metadata": {},
   "outputs": [],
   "source": []
  }
 ],
 "metadata": {
  "kernelspec": {
   "display_name": "Python 3",
   "language": "python",
   "name": "python3"
  },
  "language_info": {
   "codemirror_mode": {
    "name": "ipython",
    "version": 3
   },
   "file_extension": ".py",
   "mimetype": "text/x-python",
   "name": "python",
   "nbconvert_exporter": "python",
   "pygments_lexer": "ipython3",
   "version": "3.8.5"
  },
  "toc": {
   "base_numbering": 1,
   "nav_menu": {},
   "number_sections": true,
   "sideBar": true,
   "skip_h1_title": false,
   "title_cell": "Table of Contents",
   "title_sidebar": "Contents",
   "toc_cell": false,
   "toc_position": {},
   "toc_section_display": true,
   "toc_window_display": true
  }
 },
 "nbformat": 4,
 "nbformat_minor": 2
}
