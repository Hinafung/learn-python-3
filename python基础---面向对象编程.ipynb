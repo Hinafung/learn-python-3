{
 "cells": [
  {
   "cell_type": "code",
   "execution_count": 1,
   "metadata": {},
   "outputs": [],
   "source": [
    "from IPython.core.interactiveshell import InteractiveShell\n",
    "InteractiveShell.ast_node_interactivity = \"all\""
   ]
  },
  {
   "cell_type": "markdown",
   "metadata": {},
   "source": [
    "# 面向对象和面向过程编程"
   ]
  },
  {
   "cell_type": "markdown",
   "metadata": {},
   "source": [
    "**面向过程编程**和**面向对象编程**是编程过程中不同的思维方式"
   ]
  },
  {
   "cell_type": "markdown",
   "metadata": {},
   "source": [
    "## 面向过程"
   ]
  },
  {
   "cell_type": "markdown",
   "metadata": {},
   "source": [
    "### 什么是过程"
   ]
  },
  {
   "cell_type": "markdown",
   "metadata": {},
   "source": [
    "**过程是指事物发展所经过的程序**,即事物发展的先后经过,先做什么,再做什么,接着做什么等等"
   ]
  },
  {
   "cell_type": "markdown",
   "metadata": {},
   "source": [
    "生活中的过程:比如吃饭,思考一个完整的吃饭过程应该是怎样的?\n",
    "\n",
    "吃饭最开始的流程应该从播种开始,网上曾经有个博主再现了一次从播种到收割然后自己制作锅制作刀最后做完一道菜的完整流程,这就是过程"
   ]
  },
  {
   "cell_type": "markdown",
   "metadata": {},
   "source": [
    "### 什么是面向过程"
   ]
  },
  {
   "cell_type": "markdown",
   "metadata": {},
   "source": [
    "**面向过程是一种解决问题的思路**\n",
    "\n",
    "使用这种思路,需要关注整个过程中的每一步,使用这种思路编程,需要关注最终问题的解决需要哪几步,然后针对每一步编写程序实现对应的功能,最后根据功能的先后顺序一次调用,实现解决最终问题的目的."
   ]
  },
  {
   "cell_type": "markdown",
   "metadata": {},
   "source": [
    "基于该思想编写程序就好比在编写一条流水线，是一种机械式的思维方式：\n",
    "\n",
    "**优点**：复杂的问题流程化、进而简单化，从而按照流程解决问题即可 (需求也简单的情况下,优点会更明显)\n",
    "\n",
    "**缺点**：如果需求复杂功能太多,面向过程编程会变的非常复杂.\n",
    "\n",
    "比如一个问题需要几百个步骤解决,中间任何一个步骤出现任何问题都会影响整个功能的实现,开发时困难,维护时更困难\n",
    "\n",
    "**总结**：面向过程编程的思想就是，对于一个问题，你的内心**必须知道解决问题的所有步骤**，之后严格按照该步骤，从而达到解决问题的目的。"
   ]
  },
  {
   "cell_type": "markdown",
   "metadata": {},
   "source": [
    "## 面向对象"
   ]
  },
  {
   "cell_type": "markdown",
   "metadata": {},
   "source": [
    "### 什么是对象"
   ]
  },
  {
   "cell_type": "markdown",
   "metadata": {},
   "source": [
    "**对象是实际存在的个体,**python中一切皆对象"
   ]
  },
  {
   "cell_type": "markdown",
   "metadata": {},
   "source": [
    "生活中的对象:一张桌子,一支笔,一个人等等,万物皆对象"
   ]
  },
  {
   "cell_type": "markdown",
   "metadata": {},
   "source": [
    "### 什么是面向对象"
   ]
  },
  {
   "cell_type": "markdown",
   "metadata": {},
   "source": [
    "**面向对象也是一种解决问题的思路**\n",
    "\n",
    "使用这种思路解决问题,关注点在问题的参与者,即整个需求中有哪些问题需要解决,这些问题有没有已经写好的程序可以直接解决,而不再是具体到每一步需要写怎样的程序来解决.所以在面向对象编程中,更多的是在调用别人写好的功能"
   ]
  },
  {
   "cell_type": "markdown",
   "metadata": {},
   "source": [
    "面向过程和面向对象的区别"
   ]
  },
  {
   "cell_type": "markdown",
   "metadata": {},
   "source": [
    "|区别|面向过程|面向对象|\n",
    "|----|--------|--------|\n",
    "|关注点|每一步功能怎么实现|每一步功能是否已经有人写好可以直接拿来用|\n",
    "|效率|参与每一步的实现,效率比较慢|大多数调用别人写好的功能,效率较快|\n",
    "|质量|每一步亲力亲为,出错几率较高|大多数调用的功能都经过大量验证,不易出错|\n",
    "|适用范围|适合解决需求简单的问题|适合解决复杂需求|"
   ]
  },
  {
   "cell_type": "markdown",
   "metadata": {},
   "source": [
    "**面向对象是基于面向过程的**"
   ]
  },
  {
   "cell_type": "markdown",
   "metadata": {},
   "source": [
    "### 面向对象的三大特征"
   ]
  },
  {
   "cell_type": "markdown",
   "metadata": {},
   "source": [
    "- 封装 封装一种将抽象性函数接口的实现细节部分包装、隐藏起来的方法.适当的封装可以让代码更容易理解与维护，也加强了代码的安全性。\n",
    "\n",
    "\n",
    "- 继承 是子类继承父类的特征和行为，使得子类对象（实例）具有父类的实例域和方法，或子类从父类继承方法，使得子类具有父类相同的行为。\n",
    "\n",
    "\n",
    "- 多态 多态是指同一个方法调用由于对象不同会产生不同的行为"
   ]
  },
  {
   "cell_type": "markdown",
   "metadata": {},
   "source": [
    "# 类和对象"
   ]
  },
  {
   "cell_type": "markdown",
   "metadata": {},
   "source": [
    "## 类"
   ]
  },
  {
   "cell_type": "markdown",
   "metadata": {},
   "source": [
    "### 什么是类\n",
    "\n",
    "**类是抽象的模板,用来描述具有相同属性和方法的对象的集合**\n",
    "\n",
    "所谓属性,通俗的可以理解为特征,而方法是可操作性的技能,例如列表中进行删除和增加元素的方法."
   ]
  },
  {
   "cell_type": "markdown",
   "metadata": {},
   "source": [
    "### 先有类还是先有对象"
   ]
  },
  {
   "cell_type": "markdown",
   "metadata": {},
   "source": [
    "- 在现实世界中：一定是先有对象，后来随着智慧生物的发展归纳总结出来的类。\n",
    "            对象是实际存在的，而类只是一种抽象概念\n",
    "\n",
    "- 在程序中,务必保证：先定义类，后面再通过类实例化对象"
   ]
  },
  {
   "cell_type": "markdown",
   "metadata": {},
   "source": [
    "### 定义一个类"
   ]
  },
  {
   "cell_type": "markdown",
   "metadata": {},
   "source": [
    "类由三部分组成:\n",
    "\n",
    "- 类的名称:类名 ,通常采用驼峰式命名,即首字母大写,尽量让字面意思体现出类的特点\n",
    "- 类的属性:一组数据(即该类有哪些特征)\n",
    "- 类的方法:允许对该类进行操作的方法或行为\n",
    "\n",
    "在定义一个类的时候,类名是必选项,属性和方法是可选项,在定义类的过程中,也可以加写类的帮助文档"
   ]
  },
  {
   "cell_type": "markdown",
   "metadata": {},
   "source": [
    "```python\n",
    "class 类名:    \n",
    "    \"类的帮助信息\"     \n",
    "    \"类的属性\"\n",
    "    \"类的方法\"\n",
    "\n",
    "```"
   ]
  },
  {
   "cell_type": "markdown",
   "metadata": {},
   "source": [
    "**定义一个类**"
   ]
  },
  {
   "cell_type": "code",
   "execution_count": 3,
   "metadata": {},
   "outputs": [],
   "source": [
    "class Cook:\n",
    "    '''这是一个厨师的类''' #类的帮助信息\n",
    "    \n",
    "    # 用变量表示特征（属性）\n",
    "    name = '张三'\n",
    "    age  = '27岁'\n",
    "    \n",
    "    # 用函数表示技能（方法）        \n",
    "    def qie():\n",
    "        print('技能：切菜')\n",
    "    \n",
    "    def chao():\n",
    "        print('技能：炒菜') "
   ]
  },
  {
   "cell_type": "markdown",
   "metadata": {},
   "source": [
    "这样就成功定义了一个最简单的类，但是其中有一个明显的缺点是该厨师类中，所有的厨师的名字和年龄都相同,这个问题**暂留悬念后续解决.**"
   ]
  },
  {
   "cell_type": "markdown",
   "metadata": {},
   "source": [
    "### 练习 定义一个类"
   ]
  },
  {
   "cell_type": "markdown",
   "metadata": {},
   "source": [
    "要求:\n",
    "- 类名 Teacher\n",
    "- 类的帮助信息:\"这是一个教师的类\"\n",
    "- 类属性 country = \"中国\"\n",
    "- 类方法 teaching :教学"
   ]
  },
  {
   "cell_type": "code",
   "execution_count": 2,
   "metadata": {},
   "outputs": [],
   "source": [
    "class Teacher:\n",
    "    '''这是一个教师的类''' #类的帮助信息\n",
    "    \n",
    "    # 用变量表示特征（属性）\n",
    "    country = \"中国\"\n",
    "    \n",
    "    # 用函数表示技能（方法）        \n",
    "    def teaching ():\n",
    "        print('技能：教学')   "
   ]
  },
  {
   "cell_type": "markdown",
   "metadata": {},
   "source": [
    "### 查看类的说明文档"
   ]
  },
  {
   "cell_type": "code",
   "execution_count": 90,
   "metadata": {},
   "outputs": [
    {
     "data": {
      "text/plain": [
       "'这是一个厨师的类'"
      ]
     },
     "execution_count": 90,
     "metadata": {},
     "output_type": "execute_result"
    }
   ],
   "source": [
    "Cook.__doc__   #首尾双下划綫表示定义特殊方法,一般是系统定义名字,自定义时不要用这种方式"
   ]
  },
  {
   "cell_type": "code",
   "execution_count": 4,
   "metadata": {},
   "outputs": [
    {
     "ename": "NameError",
     "evalue": "name 'Teacher' is not defined",
     "output_type": "error",
     "traceback": [
      "\u001b[0;31m---------------------------------------------------------------------------\u001b[0m",
      "\u001b[0;31mNameError\u001b[0m                                 Traceback (most recent call last)",
      "\u001b[0;32m<ipython-input-4-0ed7afc5daeb>\u001b[0m in \u001b[0;36m<module>\u001b[0;34m\u001b[0m\n\u001b[1;32m      1\u001b[0m \u001b[0;31m# 练习 查看Teacher类的说明文档\u001b[0m\u001b[0;34m\u001b[0m\u001b[0;34m\u001b[0m\u001b[0;34m\u001b[0m\u001b[0m\n\u001b[0;32m----> 2\u001b[0;31m \u001b[0mTeacher\u001b[0m\u001b[0;34m.\u001b[0m\u001b[0m__doc__\u001b[0m\u001b[0;34m\u001b[0m\u001b[0;34m\u001b[0m\u001b[0m\n\u001b[0m",
      "\u001b[0;31mNameError\u001b[0m: name 'Teacher' is not defined"
     ]
    }
   ],
   "source": [
    "# 练习 查看Teacher类的说明文档\n",
    "Teacher.__doc__"
   ]
  },
  {
   "cell_type": "markdown",
   "metadata": {},
   "source": [
    "### 类属性的操作"
   ]
  },
  {
   "cell_type": "markdown",
   "metadata": {},
   "source": [
    "#### 查看类属性"
   ]
  },
  {
   "cell_type": "code",
   "execution_count": 4,
   "metadata": {},
   "outputs": [
    {
     "data": {
      "text/plain": [
       "'张三'"
      ]
     },
     "execution_count": 4,
     "metadata": {},
     "output_type": "execute_result"
    }
   ],
   "source": [
    "Cook.name"
   ]
  },
  {
   "cell_type": "code",
   "execution_count": 91,
   "metadata": {
    "scrolled": true
   },
   "outputs": [
    {
     "data": {
      "text/plain": [
       "'27岁'"
      ]
     },
     "execution_count": 91,
     "metadata": {},
     "output_type": "execute_result"
    }
   ],
   "source": [
    "Cook.age"
   ]
  },
  {
   "cell_type": "code",
   "execution_count": 453,
   "metadata": {},
   "outputs": [
    {
     "data": {
      "text/plain": [
       "'中国'"
      ]
     },
     "execution_count": 453,
     "metadata": {},
     "output_type": "execute_result"
    }
   ],
   "source": [
    "#练习 查看Teacher类的属性\n",
    "Teacher.country"
   ]
  },
  {
   "cell_type": "markdown",
   "metadata": {},
   "source": [
    "#### 增加类属性"
   ]
  },
  {
   "cell_type": "code",
   "execution_count": 6,
   "metadata": {},
   "outputs": [],
   "source": [
    "Cook.height = \"175cm\""
   ]
  },
  {
   "cell_type": "code",
   "execution_count": 7,
   "metadata": {},
   "outputs": [
    {
     "data": {
      "text/plain": [
       "'175cm'"
      ]
     },
     "execution_count": 7,
     "metadata": {},
     "output_type": "execute_result"
    }
   ],
   "source": [
    "Cook.height"
   ]
  },
  {
   "cell_type": "code",
   "execution_count": 454,
   "metadata": {},
   "outputs": [],
   "source": [
    "#练习 增加Teacher类属性 write = \"美观\"\n",
    "Teacher.write = \"美观\""
   ]
  },
  {
   "cell_type": "code",
   "execution_count": 456,
   "metadata": {},
   "outputs": [
    {
     "data": {
      "text/plain": [
       "'美观'"
      ]
     },
     "execution_count": 456,
     "metadata": {},
     "output_type": "execute_result"
    }
   ],
   "source": [
    "Teacher.write "
   ]
  },
  {
   "cell_type": "markdown",
   "metadata": {},
   "source": [
    "#### 删除类属性"
   ]
  },
  {
   "cell_type": "code",
   "execution_count": 8,
   "metadata": {},
   "outputs": [],
   "source": [
    "del Cook.height"
   ]
  },
  {
   "cell_type": "code",
   "execution_count": 12,
   "metadata": {
    "scrolled": false
   },
   "outputs": [
    {
     "ename": "AttributeError",
     "evalue": "type object 'Cook' has no attribute 'height'",
     "output_type": "error",
     "traceback": [
      "\u001b[1;31m---------------------------------------------------------------------------\u001b[0m",
      "\u001b[1;31mAttributeError\u001b[0m                            Traceback (most recent call last)",
      "\u001b[1;32m<ipython-input-12-fd6a48f3a425>\u001b[0m in \u001b[0;36m<module>\u001b[1;34m\u001b[0m\n\u001b[1;32m----> 1\u001b[1;33m \u001b[0mCook\u001b[0m\u001b[1;33m.\u001b[0m\u001b[0mheight\u001b[0m\u001b[1;33m\u001b[0m\u001b[1;33m\u001b[0m\u001b[0m\n\u001b[0m",
      "\u001b[1;31mAttributeError\u001b[0m: type object 'Cook' has no attribute 'height'"
     ]
    }
   ],
   "source": [
    "Cook.height"
   ]
  },
  {
   "cell_type": "code",
   "execution_count": 457,
   "metadata": {},
   "outputs": [],
   "source": [
    "# 练习 删除Teacher类中的write属性\n",
    "del Teacher.write "
   ]
  },
  {
   "cell_type": "code",
   "execution_count": 458,
   "metadata": {},
   "outputs": [
    {
     "ename": "AttributeError",
     "evalue": "type object 'Teacher' has no attribute 'write'",
     "output_type": "error",
     "traceback": [
      "\u001b[1;31m---------------------------------------------------------------------------\u001b[0m",
      "\u001b[1;31mAttributeError\u001b[0m                            Traceback (most recent call last)",
      "\u001b[1;32m<ipython-input-458-901eb055cde7>\u001b[0m in \u001b[0;36m<module>\u001b[1;34m\u001b[0m\n\u001b[1;32m----> 1\u001b[1;33m \u001b[0mTeacher\u001b[0m\u001b[1;33m.\u001b[0m\u001b[0mwrite\u001b[0m\u001b[1;33m\u001b[0m\u001b[1;33m\u001b[0m\u001b[0m\n\u001b[0m",
      "\u001b[1;31mAttributeError\u001b[0m: type object 'Teacher' has no attribute 'write'"
     ]
    }
   ],
   "source": [
    "Teacher.write "
   ]
  },
  {
   "cell_type": "markdown",
   "metadata": {},
   "source": [
    "#### 修改类属性"
   ]
  },
  {
   "cell_type": "code",
   "execution_count": 83,
   "metadata": {},
   "outputs": [],
   "source": [
    "Cook.age = \"25岁\""
   ]
  },
  {
   "cell_type": "code",
   "execution_count": 84,
   "metadata": {},
   "outputs": [
    {
     "data": {
      "text/plain": [
       "'25岁'"
      ]
     },
     "execution_count": 84,
     "metadata": {},
     "output_type": "execute_result"
    }
   ],
   "source": [
    "Cook.age"
   ]
  },
  {
   "cell_type": "code",
   "execution_count": 85,
   "metadata": {},
   "outputs": [],
   "source": [
    "Cook.age = \"27岁\""
   ]
  },
  {
   "cell_type": "code",
   "execution_count": 86,
   "metadata": {
    "scrolled": true
   },
   "outputs": [
    {
     "data": {
      "text/plain": [
       "'27岁'"
      ]
     },
     "execution_count": 86,
     "metadata": {},
     "output_type": "execute_result"
    }
   ],
   "source": [
    "Cook.age"
   ]
  },
  {
   "cell_type": "code",
   "execution_count": 459,
   "metadata": {},
   "outputs": [],
   "source": [
    "#练习 修改Teacher类中的country属性为\"美国\"\n",
    "Teacher.country=\"美国\""
   ]
  },
  {
   "cell_type": "code",
   "execution_count": 460,
   "metadata": {},
   "outputs": [
    {
     "data": {
      "text/plain": [
       "'美国'"
      ]
     },
     "execution_count": 460,
     "metadata": {},
     "output_type": "execute_result"
    }
   ],
   "source": [
    "Teacher.country"
   ]
  },
  {
   "cell_type": "markdown",
   "metadata": {},
   "source": [
    "### 类的方法"
   ]
  },
  {
   "cell_type": "code",
   "execution_count": 14,
   "metadata": {},
   "outputs": [
    {
     "name": "stdout",
     "output_type": "stream",
     "text": [
      "技能：切菜\n"
     ]
    }
   ],
   "source": [
    "Cook.qie()  #调用方法需要加括号,调用属性则不需要加括号"
   ]
  },
  {
   "cell_type": "code",
   "execution_count": 15,
   "metadata": {},
   "outputs": [
    {
     "name": "stdout",
     "output_type": "stream",
     "text": [
      "技能：炒菜\n"
     ]
    }
   ],
   "source": [
    "Cook.chao()"
   ]
  },
  {
   "cell_type": "code",
   "execution_count": 462,
   "metadata": {},
   "outputs": [
    {
     "name": "stdout",
     "output_type": "stream",
     "text": [
      "技能：教学\n"
     ]
    }
   ],
   "source": [
    "# 练习 查看Teacher类的方法\n",
    "Teacher.teaching() "
   ]
  },
  {
   "cell_type": "markdown",
   "metadata": {},
   "source": [
    "## 类的实例化--对象"
   ]
  },
  {
   "cell_type": "markdown",
   "metadata": {},
   "source": [
    "### 区分类和对象"
   ]
  },
  {
   "cell_type": "markdown",
   "metadata": {},
   "source": [
    "以下哪些是类,哪些是对象?\n",
    "\n",
    "- 飞机  波音737  空客公司编号89757的波音737\n",
    "\n",
    "- 笔记本  华为笔记本  我正在用的这台华为笔记本\n",
    "\n",
    "- 宝马  宝马X5  车牌号为京A12345的宝马X5"
   ]
  },
  {
   "cell_type": "markdown",
   "metadata": {},
   "source": [
    "**什么是实例化**\n",
    "\n",
    "在面向对象的编程中，把用类创建对象的过程称为实例化,是将一个抽象的概念类，具体到该类实物的过程。"
   ]
  },
  {
   "cell_type": "code",
   "execution_count": 92,
   "metadata": {},
   "outputs": [],
   "source": [
    "cook1 = Cook() #通过类实例化的对象cook1"
   ]
  },
  {
   "cell_type": "code",
   "execution_count": 93,
   "metadata": {},
   "outputs": [],
   "source": [
    "cook2 = Cook() #通过类实例化的对象cook2"
   ]
  },
  {
   "cell_type": "code",
   "execution_count": 94,
   "metadata": {},
   "outputs": [
    {
     "data": {
      "text/plain": [
       "<__main__.Cook at 0x1a9ec1f6e10>"
      ]
     },
     "execution_count": 94,
     "metadata": {},
     "output_type": "execute_result"
    },
    {
     "data": {
      "text/plain": [
       "<__main__.Cook at 0x1a9ec32d4e0>"
      ]
     },
     "execution_count": 94,
     "metadata": {},
     "output_type": "execute_result"
    }
   ],
   "source": [
    "cook1\n",
    "cook2"
   ]
  },
  {
   "cell_type": "code",
   "execution_count": 95,
   "metadata": {},
   "outputs": [
    {
     "data": {
      "text/plain": [
       "1829322583568"
      ]
     },
     "execution_count": 95,
     "metadata": {},
     "output_type": "execute_result"
    },
    {
     "data": {
      "text/plain": [
       "1829323855072"
      ]
     },
     "execution_count": 95,
     "metadata": {},
     "output_type": "execute_result"
    }
   ],
   "source": [
    "id(cook1) #从id可以看出实例化出的两个对象是不同的\n",
    "id(cook2)"
   ]
  },
  {
   "cell_type": "code",
   "execution_count": 463,
   "metadata": {},
   "outputs": [],
   "source": [
    "# 练习 从Teacher类中实例化一个对象\n",
    "teacher1 = Teacher()"
   ]
  },
  {
   "cell_type": "code",
   "execution_count": 464,
   "metadata": {},
   "outputs": [
    {
     "data": {
      "text/plain": [
       "<__main__.Teacher at 0x1a9ed53be10>"
      ]
     },
     "execution_count": 464,
     "metadata": {},
     "output_type": "execute_result"
    }
   ],
   "source": [
    "teacher1"
   ]
  },
  {
   "cell_type": "markdown",
   "metadata": {},
   "source": [
    "这里实例化出的对象,不一定是符合要求的,就像从人这个类中实例化一个具体的人出来,大多都想实例化一个好看的,从其他类里实例化对象也会想要符合自己需求的对象,如何才能实例化一个符合要求的对象出来呢?暂留悬念,后续解决."
   ]
  },
  {
   "cell_type": "markdown",
   "metadata": {},
   "source": [
    "### 通过对象调用属性和方法"
   ]
  },
  {
   "cell_type": "markdown",
   "metadata": {},
   "source": [
    "面向对象编程里面有一句非常经典的描述，通过类实例化一个对象，通过对象调类的方法。"
   ]
  },
  {
   "cell_type": "code",
   "execution_count": 96,
   "metadata": {},
   "outputs": [
    {
     "data": {
      "text/plain": [
       "'27岁'"
      ]
     },
     "execution_count": 96,
     "metadata": {},
     "output_type": "execute_result"
    },
    {
     "data": {
      "text/plain": [
       "'27岁'"
      ]
     },
     "execution_count": 96,
     "metadata": {},
     "output_type": "execute_result"
    }
   ],
   "source": [
    "cook1.age\n",
    "cook2.age"
   ]
  },
  {
   "cell_type": "code",
   "execution_count": 21,
   "metadata": {},
   "outputs": [
    {
     "data": {
      "text/plain": [
       "'张三'"
      ]
     },
     "execution_count": 21,
     "metadata": {},
     "output_type": "execute_result"
    },
    {
     "data": {
      "text/plain": [
       "'张三'"
      ]
     },
     "execution_count": 21,
     "metadata": {},
     "output_type": "execute_result"
    }
   ],
   "source": [
    "cook1.name\n",
    "cook2.name"
   ]
  },
  {
   "cell_type": "code",
   "execution_count": 6,
   "metadata": {},
   "outputs": [
    {
     "ename": "NameError",
     "evalue": "name 'cook1' is not defined",
     "output_type": "error",
     "traceback": [
      "\u001b[0;31m---------------------------------------------------------------------------\u001b[0m",
      "\u001b[0;31mNameError\u001b[0m                                 Traceback (most recent call last)",
      "\u001b[0;32m<ipython-input-6-e9099a202b02>\u001b[0m in \u001b[0;36m<module>\u001b[0;34m\u001b[0m\n\u001b[0;32m----> 1\u001b[0;31m \u001b[0mcook1\u001b[0m\u001b[0;34m.\u001b[0m\u001b[0mage\u001b[0m \u001b[0;34m=\u001b[0m \u001b[0;34m\"30岁\"\u001b[0m  \u001b[0;31m#更改已经实例化后的对象的属性\u001b[0m\u001b[0;34m\u001b[0m\u001b[0;34m\u001b[0m\u001b[0m\n\u001b[0m",
      "\u001b[0;31mNameError\u001b[0m: name 'cook1' is not defined"
     ]
    }
   ],
   "source": [
    "cook1.age = \"30岁\"  #更改已经实例化后的对象的属性"
   ]
  },
  {
   "cell_type": "code",
   "execution_count": 98,
   "metadata": {},
   "outputs": [
    {
     "ename": "TypeError",
     "evalue": "qie() takes 0 positional arguments but 1 was given",
     "output_type": "error",
     "traceback": [
      "\u001b[1;31m---------------------------------------------------------------------------\u001b[0m",
      "\u001b[1;31mTypeError\u001b[0m                                 Traceback (most recent call last)",
      "\u001b[1;32m<ipython-input-98-d5aaad2d4680>\u001b[0m in \u001b[0;36m<module>\u001b[1;34m\u001b[0m\n\u001b[1;32m----> 1\u001b[1;33m \u001b[0mcook1\u001b[0m\u001b[1;33m.\u001b[0m\u001b[0mqie\u001b[0m\u001b[1;33m(\u001b[0m\u001b[1;33m)\u001b[0m \u001b[1;31m#为什么报错,查看报错信息?\u001b[0m\u001b[1;33m\u001b[0m\u001b[1;33m\u001b[0m\u001b[0m\n\u001b[0m\u001b[0;32m      2\u001b[0m \u001b[0mcook2\u001b[0m\u001b[1;33m.\u001b[0m\u001b[0mqie\u001b[0m\u001b[1;33m(\u001b[0m\u001b[1;33m)\u001b[0m\u001b[1;33m\u001b[0m\u001b[1;33m\u001b[0m\u001b[0m\n",
      "\u001b[1;31mTypeError\u001b[0m: qie() takes 0 positional arguments but 1 was given"
     ]
    }
   ],
   "source": [
    "cook1.qie() #为什么报错,查看报错信息?\n",
    "cook2.qie()"
   ]
  },
  {
   "cell_type": "markdown",
   "metadata": {},
   "source": [
    "## 定义类中的方法时,必须传入一个形参"
   ]
  },
  {
   "cell_type": "code",
   "execution_count": 102,
   "metadata": {},
   "outputs": [],
   "source": [
    "class Cook2:\n",
    "    '''这是一个厨师2的类'''\n",
    "    \n",
    "    # 用变量表示特征（属性）\n",
    "    name = '张三'\n",
    "    age  = '27岁'\n",
    "    \n",
    "    # 用函数表示技能（方法）        \n",
    "    def qie(self):\n",
    "        print('技能：切菜')\n",
    "    \n",
    "    def chao(self):\n",
    "        print('技能：炒菜')  "
   ]
  },
  {
   "cell_type": "code",
   "execution_count": 103,
   "metadata": {},
   "outputs": [],
   "source": [
    "cook3 = Cook2()\n",
    "cook4 = Cook2()"
   ]
  },
  {
   "cell_type": "code",
   "execution_count": 104,
   "metadata": {},
   "outputs": [
    {
     "data": {
      "text/plain": [
       "'27岁'"
      ]
     },
     "execution_count": 104,
     "metadata": {},
     "output_type": "execute_result"
    },
    {
     "data": {
      "text/plain": [
       "'张三'"
      ]
     },
     "execution_count": 104,
     "metadata": {},
     "output_type": "execute_result"
    }
   ],
   "source": [
    "cook3.age\n",
    "cook3.name"
   ]
  },
  {
   "cell_type": "code",
   "execution_count": 105,
   "metadata": {},
   "outputs": [
    {
     "data": {
      "text/plain": [
       "'27岁'"
      ]
     },
     "execution_count": 105,
     "metadata": {},
     "output_type": "execute_result"
    },
    {
     "data": {
      "text/plain": [
       "'张三'"
      ]
     },
     "execution_count": 105,
     "metadata": {},
     "output_type": "execute_result"
    }
   ],
   "source": [
    "cook4.age\n",
    "cook4.name"
   ]
  },
  {
   "cell_type": "code",
   "execution_count": 28,
   "metadata": {},
   "outputs": [
    {
     "name": "stdout",
     "output_type": "stream",
     "text": [
      "技能：切菜\n",
      "技能：切菜\n"
     ]
    }
   ],
   "source": [
    "cook3.qie()\n",
    "cook4.qie()"
   ]
  },
  {
   "cell_type": "markdown",
   "metadata": {},
   "source": [
    "**解密时间:**注意观察，类Cook2里面的两个函数qie()和chao()：  \n",
    "```python\n",
    "class Cook2:\n",
    "    '''这是一个厨师2的类'''\n",
    "    \n",
    "    # 类是一系列对象相同的特征与技能的结合体\n",
    "    \n",
    "    # 用变量表示特征（属性）\n",
    "    name = '张三'\n",
    "    age  = '27岁'\n",
    "    \n",
    "    # 用函数表示技能（方法）        \n",
    "    def qie(self):\n",
    "        print('技能：切菜')\n",
    "    \n",
    "    def chao(self):\n",
    "        print('技能：炒菜')  \n",
    "```\n",
    "这两个函数的都有一个参数self,而且不是默认参数，并没有传入默认值，理论上在调用这个函数的时候就必须传入一个实参，然而在通过对象调用方法时并没有传入任何实参，说明Python的内在机制里面会有一个自动传参的过程。  \n",
    "  \n",
    "比如下面代码，并没有为函数chao()传入任何实参，但是依然完美执行，说明在调用方法时python内部把某个东西传给了形参self,那么传给了self的是什么呢？"
   ]
  },
  {
   "cell_type": "code",
   "execution_count": 29,
   "metadata": {},
   "outputs": [
    {
     "name": "stdout",
     "output_type": "stream",
     "text": [
      "技能：炒菜\n",
      "技能：炒菜\n"
     ]
    }
   ],
   "source": [
    "cook3.chao()\n",
    "cook4.chao()"
   ]
  },
  {
   "cell_type": "code",
   "execution_count": 3,
   "metadata": {},
   "outputs": [],
   "source": [
    "# cook3.chao  #返回值提示\"绑定方法\" ,新的问题来了,谁和谁绑定,怎样绑定,绑定的结果是什么?\n",
    "# cook4.chao"
   ]
  },
  {
   "cell_type": "markdown",
   "metadata": {},
   "source": [
    "在调用类的方法的时候，通过实例化出来的对象进行调用，其实self接收的实例化出来的对象本身！下边进行验证:"
   ]
  },
  {
   "cell_type": "code",
   "execution_count": 106,
   "metadata": {},
   "outputs": [],
   "source": [
    "class Cook3:\n",
    "    '''这是一个厨师3的类'''\n",
    "    \n",
    "    # 用变量表示特征（属性）\n",
    "    name = '张三'\n",
    "    age  = '27岁'\n",
    "    \n",
    "    # 用函数表示技能（方法）        \n",
    "    def qie(self):\n",
    "        print('技能：切菜')\n",
    "        print('我的self的内容来源于内存地址：', id(self))  # 打印出self的内存地址\n",
    "    \n",
    "    def chao(self):\n",
    "        print('技能：炒菜') "
   ]
  },
  {
   "cell_type": "code",
   "execution_count": 107,
   "metadata": {},
   "outputs": [],
   "source": [
    "cook5 = Cook3()\n",
    "cook6 = Cook3()"
   ]
  },
  {
   "cell_type": "code",
   "execution_count": 108,
   "metadata": {},
   "outputs": [
    {
     "name": "stdout",
     "output_type": "stream",
     "text": [
      "技能：切菜\n",
      "我的self的内容来源于内存地址： 1829323646064\n"
     ]
    }
   ],
   "source": [
    "cook5.qie()"
   ]
  },
  {
   "cell_type": "code",
   "execution_count": 34,
   "metadata": {},
   "outputs": [
    {
     "data": {
      "text/plain": [
       "1829323708960"
      ]
     },
     "execution_count": 34,
     "metadata": {},
     "output_type": "execute_result"
    }
   ],
   "source": [
    "id(cook5)"
   ]
  },
  {
   "cell_type": "code",
   "execution_count": 35,
   "metadata": {},
   "outputs": [
    {
     "name": "stdout",
     "output_type": "stream",
     "text": [
      "技能：切菜\n",
      "我的self的内容来源于内存地址： 1829323708568\n",
      "cook6的id为 1829323708568\n"
     ]
    }
   ],
   "source": [
    "cook6.qie()\n",
    "print(\"cook6的id为\",id(cook6))"
   ]
  },
  {
   "cell_type": "markdown",
   "metadata": {},
   "source": [
    "**重点，在类中定义函数(方法)的时候，第一个参数必须写上，这个参数用来接收实例对象。**"
   ]
  },
  {
   "cell_type": "code",
   "execution_count": 465,
   "metadata": {},
   "outputs": [],
   "source": [
    "# 练习 修改Teacher类为Teacher1类,并实例化一个对象,通过对象调用该类的属性和方法\n",
    "\n",
    "class Teacher1:\n",
    "    '''这是一个教师的类''' #类的帮助信息\n",
    "    \n",
    "    # 用变量表示特征（属性）\n",
    "    country = \"中国\"\n",
    "    \n",
    "    # 用函数表示技能（方法）        \n",
    "    def teaching (self):\n",
    "        print('技能：教学') "
   ]
  },
  {
   "cell_type": "code",
   "execution_count": 466,
   "metadata": {},
   "outputs": [],
   "source": [
    "teac = Teacher1()"
   ]
  },
  {
   "cell_type": "code",
   "execution_count": 467,
   "metadata": {},
   "outputs": [
    {
     "data": {
      "text/plain": [
       "'中国'"
      ]
     },
     "execution_count": 467,
     "metadata": {},
     "output_type": "execute_result"
    }
   ],
   "source": [
    "teac.country"
   ]
  },
  {
   "cell_type": "code",
   "execution_count": 469,
   "metadata": {},
   "outputs": [
    {
     "name": "stdout",
     "output_type": "stream",
     "text": [
      "技能：教学\n"
     ]
    }
   ],
   "source": [
    "teac.teaching()"
   ]
  },
  {
   "cell_type": "markdown",
   "metadata": {},
   "source": [
    "## 类属性和实例属性"
   ]
  },
  {
   "cell_type": "markdown",
   "metadata": {},
   "source": [
    "### 类属性"
   ]
  },
  {
   "cell_type": "markdown",
   "metadata": {},
   "source": [
    "类属性是指定义在类中，但又在函数体外的属性。类属性可以被类的所有实例所共享。\n",
    "\n",
    "对于下面这个类的两个属性name和age就是类属性，对于该类实例化的对象都是一样的,但是往往是我们需要实例化出属性不同的对象。\n",
    "\n",
    "**解密第一个悬念**"
   ]
  },
  {
   "cell_type": "code",
   "execution_count": 36,
   "metadata": {},
   "outputs": [],
   "source": [
    "class Cook:\n",
    "    '''这是一个厨师的类''' #类的帮助信息\n",
    "    \n",
    "    # 用变量表示特征（属性）\n",
    "    name = '张三'\n",
    "    age  = '27岁'\n",
    "    \n",
    "    # 用函数表示技能（方法）        \n",
    "    def qie():\n",
    "        print('技能：切菜')\n",
    "    \n",
    "    def chao():\n",
    "        print('技能：炒菜') "
   ]
  },
  {
   "cell_type": "markdown",
   "metadata": {},
   "source": [
    "实例化类的时候需要一个初始化过程,用特殊的函数 ```__init__()  ```来初始化功能,这个特殊函数也可以称作是构造函数。\n",
    "\n",
    "**每当创建一个新的实例的时候，python会自动执行这个函数**。\n",
    "\n",
    "和其他函数一样，这个构造函数也必须有一个参数接收实例对象本身，并且必须是第一个参数。\n",
    "\n",
    "与类中其他函数不同的时,用来初始化的函数在实例化对象的时候自动运行,不需要使用对象进行调用"
   ]
  },
  {
   "cell_type": "code",
   "execution_count": 37,
   "metadata": {},
   "outputs": [],
   "source": [
    "class Cook4:\n",
    "    '''这是一个厨师4的类'''\n",
    "    \n",
    "    # 用变量表示特征（属性）\n",
    "    name = '张三'        \n",
    "    age  = '27岁'\n",
    "    \n",
    "    # 特殊函数，__init__()\n",
    "    def __init__(self): # 类中定义的函数必须有一个参数接收实例对象，__init__()也是\n",
    "        print('__init()__在实例化对象的时候就会被执行')\n",
    "    \n",
    "    # 用函数表示技能（方法）        \n",
    "    def qie(self): \n",
    "        print('技能：切菜')\n",
    "       \n",
    "    def chao(self):\n",
    "        print('技能：炒菜')   "
   ]
  },
  {
   "cell_type": "code",
   "execution_count": 38,
   "metadata": {},
   "outputs": [
    {
     "name": "stdout",
     "output_type": "stream",
     "text": [
      "__init()__在实例化对象的时候就会被执行\n"
     ]
    }
   ],
   "source": [
    "cook7 = Cook4()   # __init__()实例化的时候会被执行，其他函数不会"
   ]
  },
  {
   "cell_type": "code",
   "execution_count": 39,
   "metadata": {},
   "outputs": [
    {
     "name": "stdout",
     "output_type": "stream",
     "text": [
      "__init()__在实例化对象的时候就会被执行\n"
     ]
    }
   ],
   "source": [
    "cook8 = Cook4()  #每次实例化都会被执行"
   ]
  },
  {
   "cell_type": "markdown",
   "metadata": {},
   "source": [
    "### 实例属性"
   ]
  },
  {
   "cell_type": "markdown",
   "metadata": {},
   "source": [
    "需要实例化不同属性的对象时，可以把这些需要改变的属性定义在__init__()函数内部，这种属性可以称之为实例属性。\n",
    "\n",
    "在实际实例化的时候需要把指定值传递给这些属性,就像函数一样."
   ]
  },
  {
   "cell_type": "code",
   "execution_count": 40,
   "metadata": {},
   "outputs": [],
   "source": [
    "class Cook5:\n",
    "    '''这是一个厨师5的类'''\n",
    "    \n",
    "    # 类属性\n",
    "    country = '中国'\n",
    "    \n",
    "    # 特殊函数，__init__()\n",
    "    def __init__(self, name, age): \n",
    "        # 实例属性 \n",
    "        self.name = name               \n",
    "        self.age  = age\n",
    "        print('__init()__在实例化对象的时候就会被执行')\n",
    "    \n",
    "    # 用函数表示技能（方法）        \n",
    "    def qie(self): \n",
    "        print('技能：切菜')\n",
    "       \n",
    "    def chao(self):\n",
    "        print('技能：炒菜')   "
   ]
  },
  {
   "cell_type": "code",
   "execution_count": 41,
   "metadata": {},
   "outputs": [
    {
     "ename": "TypeError",
     "evalue": "__init__() missing 2 required positional arguments: 'name' and 'age'",
     "output_type": "error",
     "traceback": [
      "\u001b[1;31m---------------------------------------------------------------------------\u001b[0m",
      "\u001b[1;31mTypeError\u001b[0m                                 Traceback (most recent call last)",
      "\u001b[1;32m<ipython-input-41-af37d9d19669>\u001b[0m in \u001b[0;36m<module>\u001b[1;34m\u001b[0m\n\u001b[1;32m----> 1\u001b[1;33m \u001b[0mcook9\u001b[0m \u001b[1;33m=\u001b[0m \u001b[0mCook5\u001b[0m\u001b[1;33m(\u001b[0m\u001b[1;33m)\u001b[0m \u001b[1;31m#需要写入两个参数,name和age\u001b[0m\u001b[1;33m\u001b[0m\u001b[1;33m\u001b[0m\u001b[0m\n\u001b[0m",
      "\u001b[1;31mTypeError\u001b[0m: __init__() missing 2 required positional arguments: 'name' and 'age'"
     ]
    }
   ],
   "source": [
    "cook9 = Cook5() #需要写入两个参数,name和age"
   ]
  },
  {
   "cell_type": "code",
   "execution_count": 43,
   "metadata": {},
   "outputs": [
    {
     "name": "stdout",
     "output_type": "stream",
     "text": [
      "__init()__在实例化对象的时候就会被执行\n"
     ]
    }
   ],
   "source": [
    "cook9 = Cook5(\"张山\",\"30岁\")"
   ]
  },
  {
   "cell_type": "code",
   "execution_count": 44,
   "metadata": {},
   "outputs": [
    {
     "data": {
      "text/plain": [
       "'张山'"
      ]
     },
     "execution_count": 44,
     "metadata": {},
     "output_type": "execute_result"
    },
    {
     "data": {
      "text/plain": [
       "'30岁'"
      ]
     },
     "execution_count": 44,
     "metadata": {},
     "output_type": "execute_result"
    }
   ],
   "source": [
    "cook9.name\n",
    "cook9.age"
   ]
  },
  {
   "cell_type": "code",
   "execution_count": 45,
   "metadata": {},
   "outputs": [
    {
     "name": "stdout",
     "output_type": "stream",
     "text": [
      "__init()__在实例化对象的时候就会被执行\n"
     ]
    }
   ],
   "source": [
    "cook10 = Cook5(\"张河\",\"23岁\")"
   ]
  },
  {
   "cell_type": "code",
   "execution_count": 46,
   "metadata": {
    "scrolled": true
   },
   "outputs": [
    {
     "data": {
      "text/plain": [
       "'张河'"
      ]
     },
     "execution_count": 46,
     "metadata": {},
     "output_type": "execute_result"
    },
    {
     "data": {
      "text/plain": [
       "'23岁'"
      ]
     },
     "execution_count": 46,
     "metadata": {},
     "output_type": "execute_result"
    }
   ],
   "source": [
    "cook10.name\n",
    "cook10.age"
   ]
  },
  {
   "cell_type": "code",
   "execution_count": 109,
   "metadata": {},
   "outputs": [],
   "source": [
    "cook9.name = \"赵赵\"  #实例化后对象的属性也是可以改变的"
   ]
  },
  {
   "cell_type": "code",
   "execution_count": 110,
   "metadata": {},
   "outputs": [
    {
     "data": {
      "text/plain": [
       "'赵赵'"
      ]
     },
     "execution_count": 110,
     "metadata": {},
     "output_type": "execute_result"
    }
   ],
   "source": [
    "cook9.name"
   ]
  },
  {
   "cell_type": "code",
   "execution_count": 47,
   "metadata": {},
   "outputs": [
    {
     "data": {
      "text/plain": [
       "'中国'"
      ]
     },
     "execution_count": 47,
     "metadata": {},
     "output_type": "execute_result"
    },
    {
     "data": {
      "text/plain": [
       "'中国'"
      ]
     },
     "execution_count": 47,
     "metadata": {},
     "output_type": "execute_result"
    }
   ],
   "source": [
    "cook9.country\n",
    "cook10.country"
   ]
  },
  {
   "cell_type": "markdown",
   "metadata": {},
   "source": [
    "一个简单的类定义完毕"
   ]
  },
  {
   "cell_type": "markdown",
   "metadata": {},
   "source": [
    "## 练习定义类"
   ]
  },
  {
   "cell_type": "markdown",
   "metadata": {},
   "source": [
    "定义一个计算器Calculator的类\n",
    "\n",
    "**类属性**：  \n",
    "产地（Place_of_Origin） = ‘made in China'  \n",
    "  \n",
    "**实例属性**：  \n",
    "颜色（colour）  \n",
    "品牌（brand）  \n",
    "价格（price）\n",
    "\n",
    "**方法（技能）**：  \n",
    "sum1(a, b)求两个数的和\n",
    "\n",
    "sum2(a, b, c, d,....)求一系列数的和\n",
    "\n",
    "sum3(a, b, c, d,...)求一系列数的倒数和  \n",
    "    \n",
    "**最后实例化一个对象出来试试功能**"
   ]
  },
  {
   "cell_type": "code",
   "execution_count": 8,
   "metadata": {},
   "outputs": [],
   "source": [
    "class Calculator:\n",
    "    '''这是一个计算器'''\n",
    "    \n",
    "    # 类属性\n",
    "    Place_of_Origin = 'made in China'\n",
    "    \n",
    "    # 实例属性\n",
    "    def __init__(self, colour, brand, price):\n",
    "        self.colour = colour\n",
    "        self.brand  = brand\n",
    "        self.price  = price\n",
    "        \n",
    "    # 技能（方法）\n",
    "    def sum1(self, a, b):\n",
    "        '''这个函数计算两个数的和'''\n",
    "        print(\"传入的数值为:\",a,b)\n",
    "        print(\"计算的结果为:\",a+b)\n",
    "        \n",
    "    def sum2(self, *args):  #收集位置参数\n",
    "        '''这个函数计算一系列数的和'''\n",
    "        print(\"传入的数值为:\",args)\n",
    "        s = 0\n",
    "        for i in args:\n",
    "            s += i\n",
    "        print(\"计算结果为:\",s)\n",
    "        \n",
    "    def sum3(self, *args):  #收集位置参数\n",
    "        '''这个函数计算一系列数的倒数和'''\n",
    "        print(\"传入的数值为:\",args)\n",
    "        s = 0\n",
    "        for i in args:\n",
    "            s += (1/i)\n",
    "        print(\"计算结果为:\",s)  "
   ]
  },
  {
   "cell_type": "code",
   "execution_count": 5,
   "metadata": {},
   "outputs": [],
   "source": [
    "x = Calculator('黑色', '得力', '28元') #实例化"
   ]
  },
  {
   "cell_type": "code",
   "execution_count": 50,
   "metadata": {},
   "outputs": [
    {
     "data": {
      "text/plain": [
       "'这个函数计算两个数的和'"
      ]
     },
     "execution_count": 50,
     "metadata": {},
     "output_type": "execute_result"
    }
   ],
   "source": [
    "x.sum1.__doc__ #查看第一个方法的说明"
   ]
  },
  {
   "cell_type": "code",
   "execution_count": 51,
   "metadata": {},
   "outputs": [
    {
     "data": {
      "text/plain": [
       "'黑色'"
      ]
     },
     "execution_count": 51,
     "metadata": {},
     "output_type": "execute_result"
    },
    {
     "data": {
      "text/plain": [
       "'得力'"
      ]
     },
     "execution_count": 51,
     "metadata": {},
     "output_type": "execute_result"
    },
    {
     "data": {
      "text/plain": [
       "'28元'"
      ]
     },
     "execution_count": 51,
     "metadata": {},
     "output_type": "execute_result"
    }
   ],
   "source": [
    "#查看实例属性\n",
    "x.colour\n",
    "x.brand\n",
    "x.price"
   ]
  },
  {
   "cell_type": "code",
   "execution_count": 52,
   "metadata": {},
   "outputs": [
    {
     "data": {
      "text/plain": [
       "'made in China'"
      ]
     },
     "execution_count": 52,
     "metadata": {},
     "output_type": "execute_result"
    }
   ],
   "source": [
    "x.Place_of_Origin #查看类属性"
   ]
  },
  {
   "cell_type": "code",
   "execution_count": 53,
   "metadata": {},
   "outputs": [
    {
     "name": "stdout",
     "output_type": "stream",
     "text": [
      "传入的数值为: 1 8\n",
      "计算的结果为: 9\n"
     ]
    }
   ],
   "source": [
    "x.sum1(1,8)"
   ]
  },
  {
   "cell_type": "code",
   "execution_count": 54,
   "metadata": {},
   "outputs": [
    {
     "data": {
      "text/plain": [
       "'这个函数计算一系列数的和'"
      ]
     },
     "execution_count": 54,
     "metadata": {},
     "output_type": "execute_result"
    }
   ],
   "source": [
    "x.sum2.__doc__ #查看第二个方法的说明"
   ]
  },
  {
   "cell_type": "code",
   "execution_count": 55,
   "metadata": {},
   "outputs": [
    {
     "name": "stdout",
     "output_type": "stream",
     "text": [
      "传入的数值为: (1, 2, 3, 4, 5)\n",
      "计算结果为: 15\n"
     ]
    }
   ],
   "source": [
    "x.sum2(1,2,3,4,5)"
   ]
  },
  {
   "cell_type": "code",
   "execution_count": 56,
   "metadata": {},
   "outputs": [
    {
     "data": {
      "text/plain": [
       "'这个函数计算一系列数的倒数和'"
      ]
     },
     "execution_count": 56,
     "metadata": {},
     "output_type": "execute_result"
    }
   ],
   "source": [
    "x.sum3.__doc__ #查看第二个方法的说明"
   ]
  },
  {
   "cell_type": "code",
   "execution_count": 57,
   "metadata": {
    "scrolled": true
   },
   "outputs": [
    {
     "name": "stdout",
     "output_type": "stream",
     "text": [
      "传入的数值为: (1, 2, 3, 4, 5)\n",
      "计算结果为: 2.283333333333333\n"
     ]
    }
   ],
   "source": [
    "x.sum3(1,2,3,4,5)"
   ]
  },
  {
   "cell_type": "markdown",
   "metadata": {},
   "source": [
    "## 删除方法"
   ]
  },
  {
   "cell_type": "code",
   "execution_count": 58,
   "metadata": {},
   "outputs": [],
   "source": [
    "del Calculator.sum1  #删除方法"
   ]
  },
  {
   "cell_type": "code",
   "execution_count": 59,
   "metadata": {
    "scrolled": true
   },
   "outputs": [
    {
     "ename": "AttributeError",
     "evalue": "'Calculator' object has no attribute 'sum1'",
     "output_type": "error",
     "traceback": [
      "\u001b[1;31m---------------------------------------------------------------------------\u001b[0m",
      "\u001b[1;31mAttributeError\u001b[0m                            Traceback (most recent call last)",
      "\u001b[1;32m<ipython-input-59-5759934be93b>\u001b[0m in \u001b[0;36m<module>\u001b[1;34m\u001b[0m\n\u001b[1;32m----> 1\u001b[1;33m \u001b[0mx\u001b[0m\u001b[1;33m.\u001b[0m\u001b[0msum1\u001b[0m\u001b[1;33m(\u001b[0m\u001b[1;36m1\u001b[0m\u001b[1;33m,\u001b[0m\u001b[1;36m8\u001b[0m\u001b[1;33m)\u001b[0m  \u001b[1;31m#删除后方法不存在\u001b[0m\u001b[1;33m\u001b[0m\u001b[1;33m\u001b[0m\u001b[0m\n\u001b[0m",
      "\u001b[1;31mAttributeError\u001b[0m: 'Calculator' object has no attribute 'sum1'"
     ]
    }
   ],
   "source": [
    "x.sum1(1,8)  #删除后方法不存在"
   ]
  },
  {
   "cell_type": "markdown",
   "metadata": {},
   "source": [
    "## 绑定方法"
   ]
  },
  {
   "cell_type": "markdown",
   "metadata": {},
   "source": [
    "### 给类绑定方法\n",
    "\n",
    "给类绑定的方法,所有从类中实例化出来的对象都可以使用\n",
    "\n",
    "如果要删除绑定的方法,直接删除绑定的函数即可"
   ]
  },
  {
   "cell_type": "markdown",
   "metadata": {},
   "source": [
    "比如刚才我们定义的计算器的类中，想再添加一个功能，  \n",
    "sum4(a, b, c, d, ...)求一系列数平方和的函数  \n",
    "除了在类的定义中添加以外，还可通过types库的中的“MethodType”将自定义函数添加到类中"
   ]
  },
  {
   "cell_type": "code",
   "execution_count": 60,
   "metadata": {},
   "outputs": [],
   "source": [
    "def sum4(self, *args):\n",
    "    '''这是一个求一系列数平方和的函数'''\n",
    "    s = 0\n",
    "    for i in args:\n",
    "        s += i**2\n",
    "    print(s) "
   ]
  },
  {
   "cell_type": "code",
   "execution_count": 61,
   "metadata": {},
   "outputs": [
    {
     "name": "stdout",
     "output_type": "stream",
     "text": [
      "13\n"
     ]
    }
   ],
   "source": [
    "sum4(1,2,3) #实验一下函数结果"
   ]
  },
  {
   "cell_type": "code",
   "execution_count": 62,
   "metadata": {},
   "outputs": [],
   "source": [
    "from types import MethodType #从types库中导入MethodType函数"
   ]
  },
  {
   "cell_type": "code",
   "execution_count": 63,
   "metadata": {},
   "outputs": [],
   "source": [
    "Calculator.sum4 = MethodType(sum4,Calculator)  #第一个参数是需要添加的方法函数,第二个参数是要给哪个类添加"
   ]
  },
  {
   "cell_type": "code",
   "execution_count": 64,
   "metadata": {},
   "outputs": [],
   "source": [
    "x = Calculator('黑色', '得力', '28元')"
   ]
  },
  {
   "cell_type": "code",
   "execution_count": 65,
   "metadata": {},
   "outputs": [
    {
     "data": {
      "text/plain": [
       "'这是一个求一系列数平方和的函数'"
      ]
     },
     "execution_count": 65,
     "metadata": {},
     "output_type": "execute_result"
    }
   ],
   "source": [
    "x.sum4.__doc__"
   ]
  },
  {
   "cell_type": "code",
   "execution_count": 66,
   "metadata": {},
   "outputs": [
    {
     "name": "stdout",
     "output_type": "stream",
     "text": [
      "14\n"
     ]
    }
   ],
   "source": [
    "x.sum4(1, 2, 3)"
   ]
  },
  {
   "cell_type": "code",
   "execution_count": 67,
   "metadata": {},
   "outputs": [
    {
     "name": "stdout",
     "output_type": "stream",
     "text": [
      "13\n"
     ]
    }
   ],
   "source": [
    "sum4(1,2,3)"
   ]
  },
  {
   "cell_type": "markdown",
   "metadata": {},
   "source": [
    "### 给实例绑定方法\n",
    "\n",
    "给单独的实例绑定的方法只有这个实例能用,同类中实例出来的其他实例不能用"
   ]
  },
  {
   "cell_type": "code",
   "execution_count": 68,
   "metadata": {},
   "outputs": [],
   "source": [
    "def sum5(self, *args):\n",
    "    '''这是一个求一系列数平方和的函数'''\n",
    "    s = 0\n",
    "    for i in args:\n",
    "        s += i**3\n",
    "    print(s) "
   ]
  },
  {
   "cell_type": "code",
   "execution_count": 69,
   "metadata": {},
   "outputs": [],
   "source": [
    "y = Calculator('白色', '得力', '30元')"
   ]
  },
  {
   "cell_type": "code",
   "execution_count": 70,
   "metadata": {},
   "outputs": [],
   "source": [
    "y.sum5 = MethodType(sum5,y)"
   ]
  },
  {
   "cell_type": "code",
   "execution_count": 71,
   "metadata": {},
   "outputs": [
    {
     "name": "stdout",
     "output_type": "stream",
     "text": [
      "36\n"
     ]
    }
   ],
   "source": [
    "y.sum5(1,2,3)"
   ]
  },
  {
   "cell_type": "code",
   "execution_count": 72,
   "metadata": {},
   "outputs": [
    {
     "ename": "AttributeError",
     "evalue": "'Calculator' object has no attribute 'sum5'",
     "output_type": "error",
     "traceback": [
      "\u001b[1;31m---------------------------------------------------------------------------\u001b[0m",
      "\u001b[1;31mAttributeError\u001b[0m                            Traceback (most recent call last)",
      "\u001b[1;32m<ipython-input-72-850b6a4e5273>\u001b[0m in \u001b[0;36m<module>\u001b[1;34m\u001b[0m\n\u001b[1;32m----> 1\u001b[1;33m \u001b[0mx\u001b[0m\u001b[1;33m.\u001b[0m\u001b[0msum5\u001b[0m\u001b[1;33m(\u001b[0m\u001b[1;36m1\u001b[0m\u001b[1;33m,\u001b[0m\u001b[1;36m2\u001b[0m\u001b[1;33m,\u001b[0m\u001b[1;36m3\u001b[0m\u001b[1;33m)\u001b[0m \u001b[1;31m#从相同的计算器类中实例化出来的x不能用给y绑定的方法\u001b[0m\u001b[1;33m\u001b[0m\u001b[1;33m\u001b[0m\u001b[0m\n\u001b[0m",
      "\u001b[1;31mAttributeError\u001b[0m: 'Calculator' object has no attribute 'sum5'"
     ]
    }
   ],
   "source": [
    "x.sum5(1,2,3) #从相同的计算器类中实例化出来的x不能用给y绑定的方法"
   ]
  },
  {
   "cell_type": "markdown",
   "metadata": {},
   "source": [
    "## 练习绑定方法"
   ]
  },
  {
   "cell_type": "markdown",
   "metadata": {},
   "source": [
    "往刚才的计算器Calculator的类里，添加一个功能  \n",
    "sum6(a, b, c, d, ...)求出一组数字里第二大和第二小的差的平方"
   ]
  },
  {
   "cell_type": "code",
   "execution_count": 73,
   "metadata": {},
   "outputs": [],
   "source": [
    "def sum6(*args):\n",
    "    '''求出一组数字里第二大和第二小的差的平方'''\n",
    "    print(\"传入的数值为:\",args)\n",
    "    a = set(args)\n",
    "    print(\"去重后的数值为:\",a)\n",
    "    b = list(a)\n",
    "    b.sort()   # 默认对原列表增序排列\n",
    "    print(\"排序后的数值为:\",b)\n",
    "    result = (b[-2]-b[1])**2\n",
    "    print(\"计算的结果为:\",result) "
   ]
  },
  {
   "cell_type": "code",
   "execution_count": null,
   "metadata": {},
   "outputs": [],
   "source": []
  },
  {
   "cell_type": "code",
   "execution_count": 74,
   "metadata": {},
   "outputs": [
    {
     "name": "stdout",
     "output_type": "stream",
     "text": [
      "传入的数值为: (1, 3, 5, 7, 8, 1, 2, 3)\n",
      "去重后的数值为: {1, 2, 3, 5, 7, 8}\n",
      "排序后的数值为: [1, 2, 3, 5, 7, 8]\n",
      "计算的结果为: 25\n"
     ]
    }
   ],
   "source": [
    "sum6(1, 3, 5, 7, 8, 1, 2, 3)"
   ]
  },
  {
   "cell_type": "code",
   "execution_count": 75,
   "metadata": {},
   "outputs": [],
   "source": [
    "def sum6(self, *args):  #用来绑定方法的函数需要传入一个self函数\n",
    "    '''求出一组数字里第二大和第二小的差的平方'''\n",
    "    print(\"传入的数值为:\",args)\n",
    "    a = set(args)\n",
    "    print(\"去重后的数值为:\",a)\n",
    "    b = list(a)\n",
    "    b.sort()   # 默认对原列表增序排列\n",
    "    print(\"排序后的数值为:\",b)\n",
    "    result = (b[-2]-b[1])**2\n",
    "    print(\"计算的结果为:\",result)"
   ]
  },
  {
   "cell_type": "code",
   "execution_count": 76,
   "metadata": {},
   "outputs": [],
   "source": [
    "from types import MethodType"
   ]
  },
  {
   "cell_type": "code",
   "execution_count": 77,
   "metadata": {},
   "outputs": [],
   "source": [
    "Calculator.sum6 = MethodType(sum6,Calculator)"
   ]
  },
  {
   "cell_type": "code",
   "execution_count": 78,
   "metadata": {},
   "outputs": [],
   "source": [
    "x = Calculator('黑色', '得力', '28元')"
   ]
  },
  {
   "cell_type": "code",
   "execution_count": 79,
   "metadata": {},
   "outputs": [
    {
     "data": {
      "text/plain": [
       "'求出一组数字里第二大和第二小的差的平方'"
      ]
     },
     "execution_count": 79,
     "metadata": {},
     "output_type": "execute_result"
    }
   ],
   "source": [
    "x.sum6.__doc__"
   ]
  },
  {
   "cell_type": "code",
   "execution_count": 80,
   "metadata": {},
   "outputs": [
    {
     "name": "stdout",
     "output_type": "stream",
     "text": [
      "传入的数值为: (1, 2, 1, 2, 3, 4, 5)\n",
      "去重后的数值为: {1, 2, 3, 4, 5}\n",
      "排序后的数值为: [1, 2, 3, 4, 5]\n",
      "计算的结果为: 4\n"
     ]
    }
   ],
   "source": [
    "x.sum6(1, 2, 1, 2, 3, 4, 5, )"
   ]
  },
  {
   "cell_type": "markdown",
   "metadata": {},
   "source": [
    "# 继承"
   ]
  },
  {
   "cell_type": "markdown",
   "metadata": {},
   "source": [
    "继承是子类(派生类)继承父类(基类)的特征和行为,本质上是类与类之间的一种关系，子类能够继承父类拥有的特征和技能，减少代码的冗余和工作量。\n",
    "\n",
    "注意:在Python中，子类的实例都是父类的实例，但不能说父类的实例是子类的实例"
   ]
  },
  {
   "cell_type": "markdown",
   "metadata": {},
   "source": [
    "## 继承的基本语法"
   ]
  },
  {
   "cell_type": "markdown",
   "metadata": {},
   "source": [
    "**定义一个关于人的类**"
   ]
  },
  {
   "cell_type": "code",
   "execution_count": 2,
   "metadata": {},
   "outputs": [],
   "source": [
    "class Person:\n",
    "    \n",
    "    \"\"\"这是关于人的一个类\"\"\"\n",
    "    \n",
    "    language = \"Y\"  #类属性,人类都有语言\n",
    "    \n",
    "    def __init__(self,color,race):#实例属性,肤色和种族\n",
    "        self.color = color\n",
    "        self.race = race\n",
    "    \n",
    "    def eat(self):  #类方法\n",
    "        print(\"技能:吃东西\")\n",
    "       "
   ]
  },
  {
   "cell_type": "code",
   "execution_count": 3,
   "metadata": {},
   "outputs": [],
   "source": [
    "per1 = Person(\"中国\",\"黄色\")"
   ]
  },
  {
   "cell_type": "code",
   "execution_count": 4,
   "metadata": {},
   "outputs": [
    {
     "data": {
      "text/plain": [
       "'Y'"
      ]
     },
     "execution_count": 4,
     "metadata": {},
     "output_type": "execute_result"
    },
    {
     "data": {
      "text/plain": [
       "'中国'"
      ]
     },
     "execution_count": 4,
     "metadata": {},
     "output_type": "execute_result"
    },
    {
     "data": {
      "text/plain": [
       "'黄色'"
      ]
     },
     "execution_count": 4,
     "metadata": {},
     "output_type": "execute_result"
    }
   ],
   "source": [
    "per1.language  #类属性\n",
    "per1.color  #实例属性\n",
    "per1.race  #实例属性"
   ]
  },
  {
   "cell_type": "code",
   "execution_count": 5,
   "metadata": {},
   "outputs": [
    {
     "name": "stdout",
     "output_type": "stream",
     "text": [
      "技能:吃东西\n"
     ]
    }
   ],
   "source": [
    "per1.eat() #类方法"
   ]
  },
  {
   "cell_type": "markdown",
   "metadata": {},
   "source": [
    "**定义一个关于中国人的类**"
   ]
  },
  {
   "cell_type": "code",
   "execution_count": 6,
   "metadata": {},
   "outputs": [],
   "source": [
    "class ChinesePerson:\n",
    "    \n",
    "    \"\"\"这是关于中国人的一个类\"\"\"\n",
    "    \n",
    "    country = \"中国\" #类属性,国籍\n",
    "    \n",
    "    def __init__(self,color,race,haircolor):#实例属性,肤色,种族和发色\n",
    "        self.color = color\n",
    "        self.race = race\n",
    "        self.haircolor = haircolor \n",
    "    \n",
    "    def eat(self):  #类方法\n",
    "        print(\"技能:吃东西\")\n",
    "    \n",
    "    def sowing(self): #类方法\n",
    "        print(\"技能:播种\")"
   ]
  },
  {
   "cell_type": "code",
   "execution_count": 7,
   "metadata": {},
   "outputs": [],
   "source": [
    "cper1 = ChinesePerson(\"黄色\",\"汉族\",\"黑色\")"
   ]
  },
  {
   "cell_type": "code",
   "execution_count": 8,
   "metadata": {},
   "outputs": [
    {
     "data": {
      "text/plain": [
       "'中国'"
      ]
     },
     "execution_count": 8,
     "metadata": {},
     "output_type": "execute_result"
    },
    {
     "data": {
      "text/plain": [
       "'黄色'"
      ]
     },
     "execution_count": 8,
     "metadata": {},
     "output_type": "execute_result"
    },
    {
     "data": {
      "text/plain": [
       "'汉族'"
      ]
     },
     "execution_count": 8,
     "metadata": {},
     "output_type": "execute_result"
    },
    {
     "data": {
      "text/plain": [
       "'黑色'"
      ]
     },
     "execution_count": 8,
     "metadata": {},
     "output_type": "execute_result"
    }
   ],
   "source": [
    "#类属性\n",
    "cper1.country\n",
    "cper1.color\n",
    "cper1.race\n",
    "cper1.haircolor"
   ]
  },
  {
   "cell_type": "code",
   "execution_count": 9,
   "metadata": {},
   "outputs": [
    {
     "name": "stdout",
     "output_type": "stream",
     "text": [
      "技能:吃东西\n",
      "技能:播种\n"
     ]
    }
   ],
   "source": [
    "#类方法\n",
    "cper1.eat()\n",
    "cper1.sowing()"
   ]
  },
  {
   "cell_type": "markdown",
   "metadata": {},
   "source": [
    "这两个类各自定义都没有问题，但是，明显类ChinesePerson中很多东西类Person中也有，编程忌代码重复出现太多，需要一种办法使类ChinesePerson可以直接用Person中的代码实现相同的功能,这就用到了继承"
   ]
  },
  {
   "cell_type": "markdown",
   "metadata": {},
   "source": [
    "**继承的基本语法**\n",
    "\n",
    "```python\n",
    "class Classname(baseclasslist):\n",
    "    '''类的说明文档'''\n",
    "    statement           # 类体,即类的说明信息,类的属性以及类的方法\n",
    "\n",
    "```\n",
    "Classname:类名  \n",
    "baseclasslist：用于指定要继承的父类，可以有多个，类名之间用逗号分隔，\n",
    "\n",
    "           如果不指定父类，将默认使用所有Python对象的根类object。"
   ]
  },
  {
   "cell_type": "markdown",
   "metadata": {},
   "source": [
    "### 方式一 显式调用父类初始化方法"
   ]
  },
  {
   "cell_type": "markdown",
   "metadata": {},
   "source": [
    "**父类**"
   ]
  },
  {
   "cell_type": "code",
   "execution_count": 10,
   "metadata": {},
   "outputs": [],
   "source": [
    "#把Person类拿下来方便对比\n",
    "class Person:\n",
    "    \n",
    "    \"\"\"这是关于人的一个类\"\"\"\n",
    "    \n",
    "    language = \"Y\"  #类属性,人类都有语言\n",
    "    \n",
    "    def __init__(self,color,race):#实例属性,肤色和种族\n",
    "        self.color = color\n",
    "        self.race = race\n",
    "    \n",
    "    def eat(self):  #类方法\n",
    "        print(\"技能:吃东西\")\n",
    "       "
   ]
  },
  {
   "cell_type": "markdown",
   "metadata": {},
   "source": [
    "**子类**"
   ]
  },
  {
   "cell_type": "code",
   "execution_count": 12,
   "metadata": {},
   "outputs": [],
   "source": [
    "class ChinesePerson(Person):\n",
    "    \n",
    "    \"\"\"这是一个关于中国人的类\"\"\"\n",
    "    country = \"中国\" #子类属性\n",
    "    \n",
    "    def __init__(self,color,race,haircolor):#实例属性,肤色,种族和发色\n",
    "        self.haircolor = haircolor\n",
    "        \n",
    "    def sowing(self):\n",
    "        print(\"技能:播种\")"
   ]
  },
  {
   "cell_type": "code",
   "execution_count": 13,
   "metadata": {},
   "outputs": [],
   "source": [
    "cper2 = ChinesePerson(\"黄色\",\"满族\",\"黄色\")"
   ]
  },
  {
   "cell_type": "code",
   "execution_count": 14,
   "metadata": {
    "scrolled": false
   },
   "outputs": [
    {
     "data": {
      "text/plain": [
       "'中国'"
      ]
     },
     "execution_count": 14,
     "metadata": {},
     "output_type": "execute_result"
    }
   ],
   "source": [
    "cper2.language #子类可以调用父类的类属性\n",
    "cper2.country"
   ]
  },
  {
   "cell_type": "code",
   "execution_count": 15,
   "metadata": {},
   "outputs": [
    {
     "ename": "AttributeError",
     "evalue": "'ChinesePerson' object has no attribute 'color'",
     "output_type": "error",
     "traceback": [
      "\u001b[1;31m---------------------------------------------------------------------------\u001b[0m",
      "\u001b[1;31mAttributeError\u001b[0m                            Traceback (most recent call last)",
      "\u001b[1;32m<ipython-input-15-4c6f7befc16c>\u001b[0m in \u001b[0;36m<module>\u001b[1;34m\u001b[0m\n\u001b[1;32m----> 1\u001b[1;33m \u001b[0mcper2\u001b[0m\u001b[1;33m.\u001b[0m\u001b[0mcolor\u001b[0m  \u001b[1;31m#没有显示调用父类的实例属性\u001b[0m\u001b[1;33m\u001b[0m\u001b[1;33m\u001b[0m\u001b[0m\n\u001b[0m",
      "\u001b[1;31mAttributeError\u001b[0m: 'ChinesePerson' object has no attribute 'color'"
     ]
    }
   ],
   "source": [
    "cper2.color  #没有显示调用父类的实例属性"
   ]
  },
  {
   "cell_type": "code",
   "execution_count": 342,
   "metadata": {},
   "outputs": [
    {
     "name": "stdout",
     "output_type": "stream",
     "text": [
      "技能:吃东西\n"
     ]
    }
   ],
   "source": [
    "cper2.eat()"
   ]
  },
  {
   "cell_type": "code",
   "execution_count": 346,
   "metadata": {},
   "outputs": [],
   "source": [
    "class ChinesePerson1(Person):\n",
    "    \n",
    "    \"\"\"这是一个关于中国人的类\"\"\"\n",
    "    country = \"中国\"\n",
    "    \n",
    "    def __init__(self,color,race,haircolor):#实例属性,肤色,种族和发色\n",
    "        Person.__init__(self,color,race) #必须显式调用父类初始化方法,否则解释器不会自行调用\n",
    "#         上述代码代替了下边两行代码的作用\n",
    "#         self.country = country\n",
    "#         self.race = race\n",
    "        self.haircolor = haircolor\n",
    "        \n",
    "    def sowing(self):\n",
    "        print(\"技能:播种\")"
   ]
  },
  {
   "cell_type": "code",
   "execution_count": 347,
   "metadata": {},
   "outputs": [],
   "source": [
    "cper3 = ChinesePerson1(\"黄色\",\"汉族\",\"黑色\")"
   ]
  },
  {
   "cell_type": "code",
   "execution_count": 348,
   "metadata": {},
   "outputs": [
    {
     "data": {
      "text/plain": [
       "'Y'"
      ]
     },
     "execution_count": 348,
     "metadata": {},
     "output_type": "execute_result"
    }
   ],
   "source": [
    "cper3.language #继承了父类的类属性"
   ]
  },
  {
   "cell_type": "code",
   "execution_count": 350,
   "metadata": {},
   "outputs": [
    {
     "data": {
      "text/plain": [
       "'中国'"
      ]
     },
     "execution_count": 350,
     "metadata": {},
     "output_type": "execute_result"
    },
    {
     "data": {
      "text/plain": [
       "'黄色'"
      ]
     },
     "execution_count": 350,
     "metadata": {},
     "output_type": "execute_result"
    },
    {
     "data": {
      "text/plain": [
       "'汉族'"
      ]
     },
     "execution_count": 350,
     "metadata": {},
     "output_type": "execute_result"
    },
    {
     "data": {
      "text/plain": [
       "'黑色'"
      ]
     },
     "execution_count": 350,
     "metadata": {},
     "output_type": "execute_result"
    }
   ],
   "source": [
    "cper3.country\n",
    "cper3.color\n",
    "cper3.race\n",
    "cper3.haircolor"
   ]
  },
  {
   "cell_type": "code",
   "execution_count": 351,
   "metadata": {
    "scrolled": true
   },
   "outputs": [
    {
     "name": "stdout",
     "output_type": "stream",
     "text": [
      "技能:吃东西\n",
      "技能:播种\n"
     ]
    }
   ],
   "source": [
    "cper3.eat()  #继承了父类的方法\n",
    "cper3.sowing() #子类的自有方法"
   ]
  },
  {
   "cell_type": "markdown",
   "metadata": {},
   "source": [
    "子类实例化的对象可以调用父类的类属性,父类实例化的对象不能调用子类特有的类属性"
   ]
  },
  {
   "cell_type": "code",
   "execution_count": 352,
   "metadata": {},
   "outputs": [],
   "source": [
    "per2 = Person(\"黄色\",\"汉族\")"
   ]
  },
  {
   "cell_type": "code",
   "execution_count": 353,
   "metadata": {},
   "outputs": [
    {
     "data": {
      "text/plain": [
       "'Y'"
      ]
     },
     "execution_count": 353,
     "metadata": {},
     "output_type": "execute_result"
    }
   ],
   "source": [
    "per2.language"
   ]
  },
  {
   "cell_type": "code",
   "execution_count": 354,
   "metadata": {
    "scrolled": true
   },
   "outputs": [
    {
     "ename": "AttributeError",
     "evalue": "'Person' object has no attribute 'country'",
     "output_type": "error",
     "traceback": [
      "\u001b[1;31m---------------------------------------------------------------------------\u001b[0m",
      "\u001b[1;31mAttributeError\u001b[0m                            Traceback (most recent call last)",
      "\u001b[1;32m<ipython-input-354-e4ecaf95f2ba>\u001b[0m in \u001b[0;36m<module>\u001b[1;34m\u001b[0m\n\u001b[1;32m----> 1\u001b[1;33m \u001b[0mper2\u001b[0m\u001b[1;33m.\u001b[0m\u001b[0mcountry\u001b[0m  \u001b[1;31m#父类实例化的对象不能调用子类特有的类属性\u001b[0m\u001b[1;33m\u001b[0m\u001b[1;33m\u001b[0m\u001b[0m\n\u001b[0m",
      "\u001b[1;31mAttributeError\u001b[0m: 'Person' object has no attribute 'country'"
     ]
    }
   ],
   "source": [
    "per2.country  #父类实例化的对象不能调用子类特有的类属性"
   ]
  },
  {
   "cell_type": "markdown",
   "metadata": {},
   "source": [
    "**(选讲)** 最简单直观的继承"
   ]
  },
  {
   "cell_type": "code",
   "execution_count": 448,
   "metadata": {},
   "outputs": [],
   "source": [
    "class PersonMin(ChinesePerson):\n",
    "    pass"
   ]
  },
  {
   "cell_type": "code",
   "execution_count": 449,
   "metadata": {},
   "outputs": [],
   "source": [
    "pp = PersonMin(\"黄色\",\"汉族\",\"黑色\")"
   ]
  },
  {
   "cell_type": "code",
   "execution_count": 450,
   "metadata": {},
   "outputs": [
    {
     "data": {
      "text/plain": [
       "'Y'"
      ]
     },
     "execution_count": 450,
     "metadata": {},
     "output_type": "execute_result"
    }
   ],
   "source": [
    "pp.language"
   ]
  },
  {
   "cell_type": "markdown",
   "metadata": {},
   "source": [
    "### 方式二 super()调用"
   ]
  },
  {
   "cell_type": "markdown",
   "metadata": {},
   "source": [
    "**父类**"
   ]
  },
  {
   "cell_type": "code",
   "execution_count": 11,
   "metadata": {},
   "outputs": [],
   "source": [
    "#把Person类拿下来方便对比\n",
    "class Person:\n",
    "    \n",
    "    \"\"\"这是关于人的一个类\"\"\"\n",
    "    \n",
    "    language = \"Y\"  #类属性,人类都有语言\n",
    "    \n",
    "    def __init__(self,color,race):#实例属性,肤色和种族\n",
    "        self.color = color\n",
    "        self.race = race\n",
    "    \n",
    "    def eat(self):  #类方法\n",
    "        print(\"技能:吃东西\")\n",
    "       "
   ]
  },
  {
   "cell_type": "markdown",
   "metadata": {},
   "source": [
    "**子类**"
   ]
  },
  {
   "cell_type": "code",
   "execution_count": 369,
   "metadata": {},
   "outputs": [],
   "source": [
    "class ChinesePerson2(Person):\n",
    "    \n",
    "    \"\"\"这是一个关于中国人的类\"\"\"\n",
    "    country = \"中国\"\n",
    "    \n",
    "    def __init__(self,color,race,haircolor):#实例属性,肤色,种族和发色\n",
    "        \n",
    "        super().__init__(color,race) \n",
    "        #super()是一个特殊对象，通过对象调的方法会有一个自动传参的过程。通过supper()调用父类中init()函数的时候，\n",
    "        #第一个参数self不必传入实参\n",
    "        self.haircolor = haircolor\n",
    "        \n",
    "    def sowing(self):\n",
    "        print(\"技能:播种\")"
   ]
  },
  {
   "cell_type": "code",
   "execution_count": 370,
   "metadata": {},
   "outputs": [],
   "source": [
    "cper4 = ChinesePerson2(\"黄色\",\"汉族\",\"黑色\")"
   ]
  },
  {
   "cell_type": "code",
   "execution_count": 371,
   "metadata": {},
   "outputs": [
    {
     "data": {
      "text/plain": [
       "'Y'"
      ]
     },
     "execution_count": 371,
     "metadata": {},
     "output_type": "execute_result"
    },
    {
     "data": {
      "text/plain": [
       "'中国'"
      ]
     },
     "execution_count": 371,
     "metadata": {},
     "output_type": "execute_result"
    },
    {
     "data": {
      "text/plain": [
       "'黄色'"
      ]
     },
     "execution_count": 371,
     "metadata": {},
     "output_type": "execute_result"
    },
    {
     "data": {
      "text/plain": [
       "'汉族'"
      ]
     },
     "execution_count": 371,
     "metadata": {},
     "output_type": "execute_result"
    },
    {
     "data": {
      "text/plain": [
       "'黑色'"
      ]
     },
     "execution_count": 371,
     "metadata": {},
     "output_type": "execute_result"
    }
   ],
   "source": [
    "cper4.language\n",
    "cper4.country\n",
    "cper4.color\n",
    "cper4.race\n",
    "cper4.haircolor"
   ]
  },
  {
   "cell_type": "markdown",
   "metadata": {},
   "source": [
    "### 练习 继承方法\n",
    "\n",
    "在person类下创建一个EnglishPerson的子类\n",
    "\n",
    "**类属性**\n",
    "- language = \"Y\"\n",
    "- country = \"English\"\n",
    "\n",
    "**实例属性**\n",
    "color,race,name,gender(性别)\n",
    "\n",
    "**技能**\n",
    "- eat():\"吃东西\"\n",
    "- (习惯)habit():\"喝下午茶\""
   ]
  },
  {
   "cell_type": "code",
   "execution_count": 14,
   "metadata": {},
   "outputs": [],
   "source": [
    "class EnglishPerson(Person):\n",
    "    '''这是一个关于英国人的类'''\n",
    "    country = \"English\"\n",
    "    def __init__ (self,color,race,name,gender):\n",
    "        Person.__init__ (self,color,race)\n",
    "        self.name = name\n",
    "        self.gender = gender\n",
    "        \n",
    "    def habit(self):\n",
    "        print(\"技能:喝下午茶\")"
   ]
  },
  {
   "cell_type": "code",
   "execution_count": 15,
   "metadata": {},
   "outputs": [],
   "source": [
    "eper = EnglishPerson(\"白色\",\"英格兰\",\"Alice\",\"女\")"
   ]
  },
  {
   "cell_type": "code",
   "execution_count": 16,
   "metadata": {},
   "outputs": [
    {
     "data": {
      "text/plain": [
       "'Y'"
      ]
     },
     "execution_count": 16,
     "metadata": {},
     "output_type": "execute_result"
    },
    {
     "data": {
      "text/plain": [
       "'English'"
      ]
     },
     "execution_count": 16,
     "metadata": {},
     "output_type": "execute_result"
    }
   ],
   "source": [
    "eper.language\n",
    "eper.country"
   ]
  },
  {
   "cell_type": "code",
   "execution_count": 17,
   "metadata": {},
   "outputs": [
    {
     "data": {
      "text/plain": [
       "'白色'"
      ]
     },
     "execution_count": 17,
     "metadata": {},
     "output_type": "execute_result"
    },
    {
     "data": {
      "text/plain": [
       "'英格兰'"
      ]
     },
     "execution_count": 17,
     "metadata": {},
     "output_type": "execute_result"
    },
    {
     "data": {
      "text/plain": [
       "'Alice'"
      ]
     },
     "execution_count": 17,
     "metadata": {},
     "output_type": "execute_result"
    },
    {
     "data": {
      "text/plain": [
       "'女'"
      ]
     },
     "execution_count": 17,
     "metadata": {},
     "output_type": "execute_result"
    }
   ],
   "source": [
    "eper.color\n",
    "eper.race\n",
    "eper.name\n",
    "eper.gender"
   ]
  },
  {
   "cell_type": "code",
   "execution_count": 18,
   "metadata": {},
   "outputs": [
    {
     "name": "stdout",
     "output_type": "stream",
     "text": [
      "技能:吃东西\n",
      "技能:喝下午茶\n"
     ]
    }
   ],
   "source": [
    "eper.eat()\n",
    "eper.habit()"
   ]
  },
  {
   "cell_type": "code",
   "execution_count": null,
   "metadata": {},
   "outputs": [],
   "source": []
  },
  {
   "cell_type": "code",
   "execution_count": null,
   "metadata": {},
   "outputs": [],
   "source": []
  },
  {
   "cell_type": "code",
   "execution_count": null,
   "metadata": {},
   "outputs": [],
   "source": [
    "class EnglishPerson(Person):\n",
    "    \n",
    "    \"\"\"这是一个关于英国人的类\"\"\"\n",
    "    country = \"英国\"\n",
    "    \n",
    "    def __init__(self,color,race,name,gender):#实例属性,国籍,种族和发色\n",
    "        super().__init__(color,race) \n",
    "       \n",
    "        self.name = name\n",
    "        self.gender = gender\n",
    "        \n",
    "    def habit(self):\n",
    "        print(\"技能:喝下午茶\""
   ]
  },
  {
   "cell_type": "code",
   "execution_count": 374,
   "metadata": {},
   "outputs": [],
   "source": [
    "eper = EnglishPerson(\"白色\",\"英格兰\",\"Alice\",\"女\")"
   ]
  },
  {
   "cell_type": "code",
   "execution_count": 375,
   "metadata": {},
   "outputs": [
    {
     "data": {
      "text/plain": [
       "'Y'"
      ]
     },
     "execution_count": 375,
     "metadata": {},
     "output_type": "execute_result"
    },
    {
     "data": {
      "text/plain": [
       "'英国'"
      ]
     },
     "execution_count": 375,
     "metadata": {},
     "output_type": "execute_result"
    }
   ],
   "source": [
    "eper.language\n",
    "eper.country"
   ]
  },
  {
   "cell_type": "code",
   "execution_count": 376,
   "metadata": {},
   "outputs": [
    {
     "data": {
      "text/plain": [
       "'白色'"
      ]
     },
     "execution_count": 376,
     "metadata": {},
     "output_type": "execute_result"
    },
    {
     "data": {
      "text/plain": [
       "'英格兰'"
      ]
     },
     "execution_count": 376,
     "metadata": {},
     "output_type": "execute_result"
    },
    {
     "data": {
      "text/plain": [
       "'Alice'"
      ]
     },
     "execution_count": 376,
     "metadata": {},
     "output_type": "execute_result"
    },
    {
     "data": {
      "text/plain": [
       "'女'"
      ]
     },
     "execution_count": 376,
     "metadata": {},
     "output_type": "execute_result"
    }
   ],
   "source": [
    "eper.color\n",
    "eper.race\n",
    "eper.name\n",
    "eper.gender"
   ]
  },
  {
   "cell_type": "code",
   "execution_count": 377,
   "metadata": {},
   "outputs": [
    {
     "name": "stdout",
     "output_type": "stream",
     "text": [
      "技能:吃东西\n",
      "技能:喝下午茶\n"
     ]
    }
   ],
   "source": [
    "eper.eat()\n",
    "eper.habit()"
   ]
  },
  {
   "cell_type": "markdown",
   "metadata": {},
   "source": [
    "## 私有属性和方法(了解)"
   ]
  },
  {
   "cell_type": "markdown",
   "metadata": {},
   "source": [
    "类的私有属性和方法不能直接调用,需要加类名调用"
   ]
  },
  {
   "cell_type": "code",
   "execution_count": 380,
   "metadata": {},
   "outputs": [],
   "source": [
    "class Person1:\n",
    "    \n",
    "     language = \"Y\"\n",
    "    \n",
    "     def __init__(self):\n",
    "        \n",
    "        self.__country = \"中国\"\n",
    "        self.race = \"汉族\" \n",
    "    \n",
    "     def __eat(self):\n",
    "        print(\"技能:吃东西\")"
   ]
  },
  {
   "cell_type": "code",
   "execution_count": 381,
   "metadata": {},
   "outputs": [],
   "source": [
    "class ChinesePerson3(Person1):\n",
    "    \n",
    "    def sowing(self):\n",
    "        \n",
    "        print(\"技能:播种\")"
   ]
  },
  {
   "cell_type": "code",
   "execution_count": 382,
   "metadata": {},
   "outputs": [],
   "source": [
    "cper4 = ChinesePerson3()"
   ]
  },
  {
   "cell_type": "code",
   "execution_count": 383,
   "metadata": {},
   "outputs": [
    {
     "data": {
      "text/plain": [
       "'Y'"
      ]
     },
     "execution_count": 383,
     "metadata": {},
     "output_type": "execute_result"
    }
   ],
   "source": [
    "cper4.language"
   ]
  },
  {
   "cell_type": "code",
   "execution_count": 384,
   "metadata": {},
   "outputs": [
    {
     "ename": "AttributeError",
     "evalue": "'ChinesePerson3' object has no attribute 'country'",
     "output_type": "error",
     "traceback": [
      "\u001b[1;31m---------------------------------------------------------------------------\u001b[0m",
      "\u001b[1;31mAttributeError\u001b[0m                            Traceback (most recent call last)",
      "\u001b[1;32m<ipython-input-384-93d83e6f738e>\u001b[0m in \u001b[0;36m<module>\u001b[1;34m\u001b[0m\n\u001b[1;32m----> 1\u001b[1;33m \u001b[0mcper4\u001b[0m\u001b[1;33m.\u001b[0m\u001b[0mcountry\u001b[0m\u001b[1;33m\u001b[0m\u001b[1;33m\u001b[0m\u001b[0m\n\u001b[0m",
      "\u001b[1;31mAttributeError\u001b[0m: 'ChinesePerson3' object has no attribute 'country'"
     ]
    }
   ],
   "source": [
    "cper4.country #父类私有属性不能直接调用"
   ]
  },
  {
   "cell_type": "code",
   "execution_count": 385,
   "metadata": {},
   "outputs": [
    {
     "data": {
      "text/plain": [
       "'汉族'"
      ]
     },
     "execution_count": 385,
     "metadata": {},
     "output_type": "execute_result"
    }
   ],
   "source": [
    "cper4.race"
   ]
  },
  {
   "cell_type": "code",
   "execution_count": 386,
   "metadata": {},
   "outputs": [
    {
     "data": {
      "text/plain": [
       "'中国'"
      ]
     },
     "execution_count": 386,
     "metadata": {},
     "output_type": "execute_result"
    }
   ],
   "source": [
    "cper4._Person1__country  #调用父类的私有属性"
   ]
  },
  {
   "cell_type": "code",
   "execution_count": 387,
   "metadata": {},
   "outputs": [
    {
     "ename": "AttributeError",
     "evalue": "'ChinesePerson3' object has no attribute 'eat'",
     "output_type": "error",
     "traceback": [
      "\u001b[1;31m---------------------------------------------------------------------------\u001b[0m",
      "\u001b[1;31mAttributeError\u001b[0m                            Traceback (most recent call last)",
      "\u001b[1;32m<ipython-input-387-329e114aa260>\u001b[0m in \u001b[0;36m<module>\u001b[1;34m\u001b[0m\n\u001b[1;32m----> 1\u001b[1;33m \u001b[0mcper4\u001b[0m\u001b[1;33m.\u001b[0m\u001b[0meat\u001b[0m\u001b[1;33m(\u001b[0m\u001b[1;33m)\u001b[0m\u001b[1;33m\u001b[0m\u001b[1;33m\u001b[0m\u001b[0m\n\u001b[0m",
      "\u001b[1;31mAttributeError\u001b[0m: 'ChinesePerson3' object has no attribute 'eat'"
     ]
    }
   ],
   "source": [
    "cper4.eat() #父类私有方法不能直接调用"
   ]
  },
  {
   "cell_type": "code",
   "execution_count": 388,
   "metadata": {},
   "outputs": [
    {
     "name": "stdout",
     "output_type": "stream",
     "text": [
      "技能:吃东西\n"
     ]
    }
   ],
   "source": [
    "cper4._Person1__eat() #调用父类私有方法"
   ]
  },
  {
   "cell_type": "markdown",
   "metadata": {},
   "source": [
    "## 方法重写"
   ]
  },
  {
   "cell_type": "markdown",
   "metadata": {},
   "source": [
    "当父类的某个方法不完全适用于子类时，可以在子类里重新改写这个方法。此时子类和父类中都有这个函数，将优先使用子类中的"
   ]
  },
  {
   "cell_type": "code",
   "execution_count": 404,
   "metadata": {},
   "outputs": [],
   "source": [
    "class Dog:  #定义一个父类\n",
    "    \n",
    "    legs = \"4只\"  #定义类属性\n",
    "    \n",
    "    def bark(self):    #吠叫\n",
    "        print(\"汪汪\")"
   ]
  },
  {
   "cell_type": "code",
   "execution_count": 405,
   "metadata": {},
   "outputs": [],
   "source": [
    "class Husky(Dog):  #定义继承Dog的子类(哈士奇)\n",
    "    pass"
   ]
  },
  {
   "cell_type": "code",
   "execution_count": 406,
   "metadata": {},
   "outputs": [],
   "source": [
    "erha = Husky()"
   ]
  },
  {
   "cell_type": "code",
   "execution_count": 407,
   "metadata": {},
   "outputs": [
    {
     "data": {
      "text/plain": [
       "'4只'"
      ]
     },
     "execution_count": 407,
     "metadata": {},
     "output_type": "execute_result"
    }
   ],
   "source": [
    "erha.legs"
   ]
  },
  {
   "cell_type": "code",
   "execution_count": 408,
   "metadata": {},
   "outputs": [
    {
     "name": "stdout",
     "output_type": "stream",
     "text": [
      "汪汪\n"
     ]
    }
   ],
   "source": [
    "erha.bark()"
   ]
  },
  {
   "cell_type": "markdown",
   "metadata": {},
   "source": [
    "其他子类的狗狗叫声都是汪汪,哈士奇的叫声和别的狗狗不一样,需要重写哈士奇这一个子类的叫声"
   ]
  },
  {
   "cell_type": "code",
   "execution_count": 409,
   "metadata": {},
   "outputs": [],
   "source": [
    "class Husky1(Dog):\n",
    "    \n",
    "    def bark(self):    #重新定义哈士奇的叫声\n",
    "        print(\"嗷嗷\")"
   ]
  },
  {
   "cell_type": "code",
   "execution_count": 410,
   "metadata": {},
   "outputs": [],
   "source": [
    "haha = Husky1()"
   ]
  },
  {
   "cell_type": "code",
   "execution_count": 411,
   "metadata": {},
   "outputs": [
    {
     "data": {
      "text/plain": [
       "'4只'"
      ]
     },
     "execution_count": 411,
     "metadata": {},
     "output_type": "execute_result"
    }
   ],
   "source": [
    "haha.legs"
   ]
  },
  {
   "cell_type": "code",
   "execution_count": 412,
   "metadata": {},
   "outputs": [
    {
     "name": "stdout",
     "output_type": "stream",
     "text": [
      "嗷嗷\n"
     ]
    }
   ],
   "source": [
    "haha.bark()  #子类和父类有相同名称的方法是,从子类实例化出的对象优先使用子类方法"
   ]
  },
  {
   "cell_type": "markdown",
   "metadata": {},
   "source": [
    "## 查看类的继承层次结构"
   ]
  },
  {
   "cell_type": "code",
   "execution_count": 415,
   "metadata": {},
   "outputs": [],
   "source": [
    "class A:\n",
    "    name = \"A\"    "
   ]
  },
  {
   "cell_type": "code",
   "execution_count": 416,
   "metadata": {},
   "outputs": [],
   "source": [
    "class B(A):\n",
    "    pass"
   ]
  },
  {
   "cell_type": "code",
   "execution_count": 417,
   "metadata": {},
   "outputs": [],
   "source": [
    "class C(B):\n",
    "    pass"
   ]
  },
  {
   "cell_type": "code",
   "execution_count": 418,
   "metadata": {},
   "outputs": [],
   "source": [
    "c = C()"
   ]
  },
  {
   "cell_type": "code",
   "execution_count": 419,
   "metadata": {},
   "outputs": [
    {
     "data": {
      "text/plain": [
       "'A'"
      ]
     },
     "execution_count": 419,
     "metadata": {},
     "output_type": "execute_result"
    }
   ],
   "source": [
    "c.name"
   ]
  },
  {
   "cell_type": "code",
   "execution_count": 421,
   "metadata": {},
   "outputs": [
    {
     "data": {
      "text/plain": [
       "[__main__.C, __main__.B, __main__.A, object]"
      ]
     },
     "execution_count": 421,
     "metadata": {},
     "output_type": "execute_result"
    }
   ],
   "source": [
    "C.mro()  #可以清楚的看出各个类之间的继承关系,都源自object类"
   ]
  },
  {
   "cell_type": "markdown",
   "metadata": {},
   "source": [
    "**(选讲)**python中自定义的类都继承于object类,那么object类都有哪些属性方法呢?(仅做拓展不要求掌握)"
   ]
  },
  {
   "cell_type": "code",
   "execution_count": 423,
   "metadata": {
    "collapsed": true
   },
   "outputs": [
    {
     "data": {
      "text/plain": [
       "['__class__',\n",
       " '__delattr__',\n",
       " '__dir__',\n",
       " '__doc__',\n",
       " '__eq__',\n",
       " '__format__',\n",
       " '__ge__',\n",
       " '__getattribute__',\n",
       " '__gt__',\n",
       " '__hash__',\n",
       " '__init__',\n",
       " '__init_subclass__',\n",
       " '__le__',\n",
       " '__lt__',\n",
       " '__ne__',\n",
       " '__new__',\n",
       " '__reduce__',\n",
       " '__reduce_ex__',\n",
       " '__repr__',\n",
       " '__setattr__',\n",
       " '__sizeof__',\n",
       " '__str__',\n",
       " '__subclasshook__']"
      ]
     },
     "execution_count": 423,
     "metadata": {},
     "output_type": "execute_result"
    }
   ],
   "source": [
    "dir(object)  #dir函数查看类的所有属性方法"
   ]
  },
  {
   "cell_type": "code",
   "execution_count": 429,
   "metadata": {},
   "outputs": [
    {
     "data": {
      "text/plain": [
       "mappingproxy({'__module__': '__main__', '__doc__': None})"
      ]
     },
     "execution_count": 429,
     "metadata": {},
     "output_type": "execute_result"
    }
   ],
   "source": [
    "C.__dict__"
   ]
  },
  {
   "cell_type": "markdown",
   "metadata": {},
   "source": [
    "## 补充(选讲)"
   ]
  },
  {
   "cell_type": "markdown",
   "metadata": {},
   "source": [
    "当使用print输出对象的时候，只要自己定义了__str__(self)方法，那么就会打印从在这个方法中return的数据"
   ]
  },
  {
   "cell_type": "code",
   "execution_count": 431,
   "metadata": {},
   "outputs": [],
   "source": [
    "class Person:\n",
    "    \n",
    "    \"\"\"这是关于人的一个类\"\"\"\n",
    "    \n",
    "    language = \"Y\"  #类属性,人类都有语言\n",
    "    \n",
    "    def __init__(self,color,race):#实例属性,肤色和种族\n",
    "        self.color = color\n",
    "        self.race = race\n",
    "    \n",
    "    def eat(self):  #类方法\n",
    "        print(\"技能:吃东西\")"
   ]
  },
  {
   "cell_type": "code",
   "execution_count": 432,
   "metadata": {},
   "outputs": [],
   "source": [
    "pers = Person(\"白色\",\"英格兰\")"
   ]
  },
  {
   "cell_type": "code",
   "execution_count": 442,
   "metadata": {},
   "outputs": [
    {
     "data": {
      "text/plain": [
       "<__main__.Person at 0x1a9ed536160>"
      ]
     },
     "execution_count": 442,
     "metadata": {},
     "output_type": "execute_result"
    }
   ],
   "source": [
    "pers"
   ]
  },
  {
   "cell_type": "code",
   "execution_count": 441,
   "metadata": {},
   "outputs": [
    {
     "name": "stdout",
     "output_type": "stream",
     "text": [
      "<__main__.Person object at 0x000001A9ED536160>\n"
     ]
    }
   ],
   "source": [
    "print(pers)"
   ]
  },
  {
   "cell_type": "code",
   "execution_count": 443,
   "metadata": {},
   "outputs": [],
   "source": [
    "class SuperPerson:\n",
    "    \n",
    "    \"\"\"这是关于人的一个类\"\"\"\n",
    "    \n",
    "    language = \"Y\"  #类属性,人类都有语言\n",
    "    \n",
    "    def __init__(self,color,race):#实例属性,肤色和种族\n",
    "        self.color = color\n",
    "        self.race = race\n",
    "        \n",
    "    def __str__(self):\n",
    "        return \"肤色是:{0},发色是:{1}\".format(self.color,self.race)\n",
    "    \n",
    "    def eat(self):  #类方法\n",
    "        print(\"技能:吃东西\")"
   ]
  },
  {
   "cell_type": "code",
   "execution_count": 444,
   "metadata": {},
   "outputs": [],
   "source": [
    "ss = SuperPerson(\"白色\",\"英格兰\")"
   ]
  },
  {
   "cell_type": "code",
   "execution_count": 446,
   "metadata": {},
   "outputs": [
    {
     "data": {
      "text/plain": [
       "<__main__.SuperPerson at 0x1a9ed53b390>"
      ]
     },
     "execution_count": 446,
     "metadata": {},
     "output_type": "execute_result"
    }
   ],
   "source": [
    "ss"
   ]
  },
  {
   "cell_type": "code",
   "execution_count": 445,
   "metadata": {},
   "outputs": [
    {
     "name": "stdout",
     "output_type": "stream",
     "text": [
      "肤色是:白色,发色是:英格兰\n"
     ]
    }
   ],
   "source": [
    "print(ss)"
   ]
  },
  {
   "cell_type": "code",
   "execution_count": 447,
   "metadata": {},
   "outputs": [
    {
     "data": {
      "text/plain": [
       "'白色'"
      ]
     },
     "execution_count": 447,
     "metadata": {},
     "output_type": "execute_result"
    },
    {
     "data": {
      "text/plain": [
       "'英格兰'"
      ]
     },
     "execution_count": 447,
     "metadata": {},
     "output_type": "execute_result"
    }
   ],
   "source": [
    "ss.color\n",
    "ss.race"
   ]
  },
  {
   "cell_type": "markdown",
   "metadata": {},
   "source": [
    "## 多态"
   ]
  },
  {
   "cell_type": "markdown",
   "metadata": {},
   "source": [
    "**简单的说父类的多个子类对象，调用父类的统一方法而表现出不同的形态就叫多态。其实就是继承+方法重写就可以实现多态。**"
   ]
  },
  {
   "cell_type": "code",
   "execution_count": 2,
   "metadata": {},
   "outputs": [],
   "source": [
    "class Animal:\n",
    "    \n",
    "    def bark(self):  #定义一个方法:叫\n",
    "        print(\"$^&%#@$~%\")"
   ]
  },
  {
   "cell_type": "code",
   "execution_count": 3,
   "metadata": {},
   "outputs": [],
   "source": [
    "class Dog(Animal):\n",
    "    \n",
    "    # 方法重写\n",
    "    def bark(self):\n",
    "        print(\"汪汪\")"
   ]
  },
  {
   "cell_type": "code",
   "execution_count": 4,
   "metadata": {},
   "outputs": [],
   "source": [
    "class Cat(Animal):\n",
    "    \n",
    "    # 方法重写\n",
    "    def bark(self):\n",
    "        print(\"喵喵\")"
   ]
  },
  {
   "cell_type": "code",
   "execution_count": 5,
   "metadata": {},
   "outputs": [],
   "source": [
    "class Unkown(Animal):\n",
    "    pass"
   ]
  },
  {
   "cell_type": "code",
   "execution_count": 6,
   "metadata": {},
   "outputs": [],
   "source": [
    "dog = Dog()\n",
    "cat = Cat()\n",
    "unknown = Unkown()"
   ]
  },
  {
   "cell_type": "code",
   "execution_count": 7,
   "metadata": {},
   "outputs": [
    {
     "name": "stdout",
     "output_type": "stream",
     "text": [
      "汪汪\n",
      "喵喵\n",
      "$^&%#@$~%\n"
     ]
    }
   ],
   "source": [
    "dog.bark()\n",
    "cat.bark()\n",
    "unknown.bark()"
   ]
  },
  {
   "cell_type": "code",
   "execution_count": null,
   "metadata": {},
   "outputs": [],
   "source": []
  }
 ],
 "metadata": {
  "kernelspec": {
   "display_name": "Python 3",
   "language": "python",
   "name": "python3"
  },
  "language_info": {
   "codemirror_mode": {
    "name": "ipython",
    "version": 3
   },
   "file_extension": ".py",
   "mimetype": "text/x-python",
   "name": "python",
   "nbconvert_exporter": "python",
   "pygments_lexer": "ipython3",
   "version": "3.8.5"
  },
  "toc": {
   "base_numbering": 1,
   "nav_menu": {},
   "number_sections": true,
   "sideBar": true,
   "skip_h1_title": false,
   "title_cell": "Table of Contents",
   "title_sidebar": "Contents",
   "toc_cell": false,
   "toc_position": {
    "height": "calc(100% - 180px)",
    "left": "10px",
    "top": "150px",
    "width": "301.1px"
   },
   "toc_section_display": true,
   "toc_window_display": true
  },
  "varInspector": {
   "cols": {
    "lenName": 16,
    "lenType": 16,
    "lenVar": 40
   },
   "kernels_config": {
    "python": {
     "delete_cmd_postfix": "",
     "delete_cmd_prefix": "del ",
     "library": "var_list.py",
     "varRefreshCmd": "print(var_dic_list())"
    },
    "r": {
     "delete_cmd_postfix": ") ",
     "delete_cmd_prefix": "rm(",
     "library": "var_list.r",
     "varRefreshCmd": "cat(var_dic_list()) "
    }
   },
   "types_to_exclude": [
    "module",
    "function",
    "builtin_function_or_method",
    "instance",
    "_Feature"
   ],
   "window_display": false
  }
 },
 "nbformat": 4,
 "nbformat_minor": 2
}
